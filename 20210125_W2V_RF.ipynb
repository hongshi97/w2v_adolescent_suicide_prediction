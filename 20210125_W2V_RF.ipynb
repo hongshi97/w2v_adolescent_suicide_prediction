{
 "cells": [
  {
   "cell_type": "markdown",
   "metadata": {},
   "source": [
    "# Random Forest + Grid Search"
   ]
  },
  {
   "cell_type": "markdown",
   "metadata": {},
   "source": [
    "## 데이터 불러오기 및 전처리"
   ]
  },
  {
   "cell_type": "code",
   "execution_count": 11,
   "metadata": {
    "ExecuteTime": {
     "end_time": "2021-01-25T04:43:30.851135Z",
     "start_time": "2021-01-25T04:43:30.842133Z"
    }
   },
   "outputs": [],
   "source": [
    "import pandas as pd\n",
    "import numpy as np\n",
    "from sklearn.ensemble import RandomForestClassifier\n",
    "from sklearn.metrics import plot_roc_curve\n",
    "from sklearn.metrics import roc_auc_score, roc_curve, auc\n",
    "from sklearn.model_selection import RandomizedSearchCV\n",
    "from pprint import pprint\n",
    "from sklearn.metrics import classification_report, confusion_matrix, accuracy_score"
   ]
  },
  {
   "cell_type": "code",
   "execution_count": 2,
   "metadata": {
    "ExecuteTime": {
     "end_time": "2021-01-25T04:43:01.183709Z",
     "start_time": "2021-01-25T04:43:01.170706Z"
    }
   },
   "outputs": [],
   "source": [
    "import warnings\n",
    "warnings.filterwarnings(\"ignore\")"
   ]
  },
  {
   "cell_type": "code",
   "execution_count": 3,
   "metadata": {
    "ExecuteTime": {
     "end_time": "2021-01-25T04:43:01.309743Z",
     "start_time": "2021-01-25T04:43:01.186710Z"
    }
   },
   "outputs": [],
   "source": [
    "pre_train = pd.read_csv('good_pretrain.csv')\n",
    "pre_test = pd.read_csv('final_test.csv')"
   ]
  },
  {
   "cell_type": "code",
   "execution_count": 4,
   "metadata": {
    "ExecuteTime": {
     "end_time": "2021-01-25T04:43:01.325746Z",
     "start_time": "2021-01-25T04:43:01.310742Z"
    }
   },
   "outputs": [],
   "source": [
    "pre_train = pre_train.drop(columns = ['Unnamed: 0'])\n",
    "pre_test = pre_test.drop(columns = ['Unnamed: 0'])"
   ]
  },
  {
   "cell_type": "code",
   "execution_count": 5,
   "metadata": {
    "ExecuteTime": {
     "end_time": "2021-01-25T04:43:01.357753Z",
     "start_time": "2021-01-25T04:43:01.326747Z"
    },
    "scrolled": true
   },
   "outputs": [
    {
     "data": {
      "text/html": [
       "<div>\n",
       "<style scoped>\n",
       "    .dataframe tbody tr th:only-of-type {\n",
       "        vertical-align: middle;\n",
       "    }\n",
       "\n",
       "    .dataframe tbody tr th {\n",
       "        vertical-align: top;\n",
       "    }\n",
       "\n",
       "    .dataframe thead th {\n",
       "        text-align: right;\n",
       "    }\n",
       "</style>\n",
       "<table border=\"1\" class=\"dataframe\">\n",
       "  <thead>\n",
       "    <tr style=\"text-align: right;\">\n",
       "      <th></th>\n",
       "      <th>M_SAD</th>\n",
       "      <th>SitTime</th>\n",
       "      <th>PA_TOT</th>\n",
       "      <th>I_SB_EX</th>\n",
       "      <th>I_SB_FR</th>\n",
       "      <th>M_SUI_CON</th>\n",
       "      <th>i_SB_BK</th>\n",
       "      <th>BMI</th>\n",
       "      <th>M_STR</th>\n",
       "      <th>F_SODA</th>\n",
       "      <th>PA_MSC</th>\n",
       "    </tr>\n",
       "  </thead>\n",
       "  <tbody>\n",
       "    <tr>\n",
       "      <th>0</th>\n",
       "      <td>M_SAD_2</td>\n",
       "      <td>SitTime_3</td>\n",
       "      <td>PA_TOT_5</td>\n",
       "      <td>I_SB_EX_5</td>\n",
       "      <td>I_SB_FR_2</td>\n",
       "      <td>M_SUI_CON_2</td>\n",
       "      <td>i_SB_BK_4</td>\n",
       "      <td>BMI_1</td>\n",
       "      <td>M_STR_1</td>\n",
       "      <td>F_SODA_4</td>\n",
       "      <td>PA_MSC_4</td>\n",
       "    </tr>\n",
       "    <tr>\n",
       "      <th>1</th>\n",
       "      <td>M_SAD_1</td>\n",
       "      <td>SitTime_0</td>\n",
       "      <td>PA_TOT_4</td>\n",
       "      <td>I_SB_EX_2</td>\n",
       "      <td>I_SB_FR_2</td>\n",
       "      <td>M_SUI_CON_1</td>\n",
       "      <td>i_SB_BK_2</td>\n",
       "      <td>BMI_1</td>\n",
       "      <td>M_STR_4</td>\n",
       "      <td>F_SODA_2</td>\n",
       "      <td>PA_MSC_6</td>\n",
       "    </tr>\n",
       "    <tr>\n",
       "      <th>2</th>\n",
       "      <td>M_SAD_1</td>\n",
       "      <td>SitTime_3</td>\n",
       "      <td>PA_TOT_2</td>\n",
       "      <td>I_SB_EX_5</td>\n",
       "      <td>I_SB_FR_5</td>\n",
       "      <td>M_SUI_CON_1</td>\n",
       "      <td>i_SB_BK_5</td>\n",
       "      <td>BMI_2</td>\n",
       "      <td>M_STR_3</td>\n",
       "      <td>F_SODA_1</td>\n",
       "      <td>PA_MSC_1</td>\n",
       "    </tr>\n",
       "    <tr>\n",
       "      <th>3</th>\n",
       "      <td>M_SAD_1</td>\n",
       "      <td>SitTime_0</td>\n",
       "      <td>PA_TOT_1</td>\n",
       "      <td>I_SB_EX_1</td>\n",
       "      <td>I_SB_FR_1</td>\n",
       "      <td>M_SUI_CON_1</td>\n",
       "      <td>i_SB_BK_1</td>\n",
       "      <td>BMI_1</td>\n",
       "      <td>M_STR_3</td>\n",
       "      <td>F_SODA_1</td>\n",
       "      <td>PA_MSC_1</td>\n",
       "    </tr>\n",
       "    <tr>\n",
       "      <th>4</th>\n",
       "      <td>M_SAD_1</td>\n",
       "      <td>SitTime_1</td>\n",
       "      <td>PA_TOT_1</td>\n",
       "      <td>I_SB_EX_2</td>\n",
       "      <td>I_SB_FR_2</td>\n",
       "      <td>M_SUI_CON_1</td>\n",
       "      <td>i_SB_BK_2</td>\n",
       "      <td>BMI_1</td>\n",
       "      <td>M_STR_4</td>\n",
       "      <td>F_SODA_3</td>\n",
       "      <td>PA_MSC_1</td>\n",
       "    </tr>\n",
       "    <tr>\n",
       "      <th>...</th>\n",
       "      <td>...</td>\n",
       "      <td>...</td>\n",
       "      <td>...</td>\n",
       "      <td>...</td>\n",
       "      <td>...</td>\n",
       "      <td>...</td>\n",
       "      <td>...</td>\n",
       "      <td>...</td>\n",
       "      <td>...</td>\n",
       "      <td>...</td>\n",
       "      <td>...</td>\n",
       "    </tr>\n",
       "    <tr>\n",
       "      <th>59347</th>\n",
       "      <td>M_SAD_2</td>\n",
       "      <td>SitTime_2</td>\n",
       "      <td>PA_TOT_2</td>\n",
       "      <td>I_SB_EX_2</td>\n",
       "      <td>I_SB_FR_2</td>\n",
       "      <td>M_SUI_CON_1</td>\n",
       "      <td>i_SB_BK_2</td>\n",
       "      <td>BMI_2</td>\n",
       "      <td>M_STR_2</td>\n",
       "      <td>F_SODA_3</td>\n",
       "      <td>PA_MSC_3</td>\n",
       "    </tr>\n",
       "    <tr>\n",
       "      <th>59348</th>\n",
       "      <td>M_SAD_1</td>\n",
       "      <td>SitTime_4</td>\n",
       "      <td>PA_TOT_1</td>\n",
       "      <td>I_SB_EX_5</td>\n",
       "      <td>I_SB_FR_5</td>\n",
       "      <td>M_SUI_CON_1</td>\n",
       "      <td>i_SB_BK_5</td>\n",
       "      <td>BMI_1</td>\n",
       "      <td>M_STR_4</td>\n",
       "      <td>F_SODA_1</td>\n",
       "      <td>PA_MSC_1</td>\n",
       "    </tr>\n",
       "    <tr>\n",
       "      <th>59349</th>\n",
       "      <td>M_SAD_2</td>\n",
       "      <td>SitTime_0</td>\n",
       "      <td>PA_TOT_1</td>\n",
       "      <td>I_SB_EX_2</td>\n",
       "      <td>I_SB_FR_2</td>\n",
       "      <td>M_SUI_CON_2</td>\n",
       "      <td>i_SB_BK_4</td>\n",
       "      <td>BMI_2</td>\n",
       "      <td>M_STR_2</td>\n",
       "      <td>F_SODA_2</td>\n",
       "      <td>PA_MSC_3</td>\n",
       "    </tr>\n",
       "    <tr>\n",
       "      <th>59350</th>\n",
       "      <td>M_SAD_1</td>\n",
       "      <td>SitTime_1</td>\n",
       "      <td>PA_TOT_1</td>\n",
       "      <td>I_SB_EX_2</td>\n",
       "      <td>I_SB_FR_2</td>\n",
       "      <td>M_SUI_CON_2</td>\n",
       "      <td>i_SB_BK_2</td>\n",
       "      <td>BMI_1</td>\n",
       "      <td>M_STR_3</td>\n",
       "      <td>F_SODA_5</td>\n",
       "      <td>PA_MSC_6</td>\n",
       "    </tr>\n",
       "    <tr>\n",
       "      <th>59351</th>\n",
       "      <td>M_SAD_1</td>\n",
       "      <td>SitTime_5</td>\n",
       "      <td>PA_TOT_1</td>\n",
       "      <td>I_SB_EX_4</td>\n",
       "      <td>I_SB_FR_2</td>\n",
       "      <td>M_SUI_CON_1</td>\n",
       "      <td>i_SB_BK_3</td>\n",
       "      <td>BMI_2</td>\n",
       "      <td>M_STR_3</td>\n",
       "      <td>F_SODA_3</td>\n",
       "      <td>PA_MSC_1</td>\n",
       "    </tr>\n",
       "  </tbody>\n",
       "</table>\n",
       "<p>59352 rows × 11 columns</p>\n",
       "</div>"
      ],
      "text/plain": [
       "         M_SAD    SitTime    PA_TOT    I_SB_EX    I_SB_FR    M_SUI_CON  \\\n",
       "0      M_SAD_2  SitTime_3  PA_TOT_5  I_SB_EX_5  I_SB_FR_2  M_SUI_CON_2   \n",
       "1      M_SAD_1  SitTime_0  PA_TOT_4  I_SB_EX_2  I_SB_FR_2  M_SUI_CON_1   \n",
       "2      M_SAD_1  SitTime_3  PA_TOT_2  I_SB_EX_5  I_SB_FR_5  M_SUI_CON_1   \n",
       "3      M_SAD_1  SitTime_0  PA_TOT_1  I_SB_EX_1  I_SB_FR_1  M_SUI_CON_1   \n",
       "4      M_SAD_1  SitTime_1  PA_TOT_1  I_SB_EX_2  I_SB_FR_2  M_SUI_CON_1   \n",
       "...        ...        ...       ...        ...        ...          ...   \n",
       "59347  M_SAD_2  SitTime_2  PA_TOT_2  I_SB_EX_2  I_SB_FR_2  M_SUI_CON_1   \n",
       "59348  M_SAD_1  SitTime_4  PA_TOT_1  I_SB_EX_5  I_SB_FR_5  M_SUI_CON_1   \n",
       "59349  M_SAD_2  SitTime_0  PA_TOT_1  I_SB_EX_2  I_SB_FR_2  M_SUI_CON_2   \n",
       "59350  M_SAD_1  SitTime_1  PA_TOT_1  I_SB_EX_2  I_SB_FR_2  M_SUI_CON_2   \n",
       "59351  M_SAD_1  SitTime_5  PA_TOT_1  I_SB_EX_4  I_SB_FR_2  M_SUI_CON_1   \n",
       "\n",
       "         i_SB_BK    BMI    M_STR    F_SODA    PA_MSC  \n",
       "0      i_SB_BK_4  BMI_1  M_STR_1  F_SODA_4  PA_MSC_4  \n",
       "1      i_SB_BK_2  BMI_1  M_STR_4  F_SODA_2  PA_MSC_6  \n",
       "2      i_SB_BK_5  BMI_2  M_STR_3  F_SODA_1  PA_MSC_1  \n",
       "3      i_SB_BK_1  BMI_1  M_STR_3  F_SODA_1  PA_MSC_1  \n",
       "4      i_SB_BK_2  BMI_1  M_STR_4  F_SODA_3  PA_MSC_1  \n",
       "...          ...    ...      ...       ...       ...  \n",
       "59347  i_SB_BK_2  BMI_2  M_STR_2  F_SODA_3  PA_MSC_3  \n",
       "59348  i_SB_BK_5  BMI_1  M_STR_4  F_SODA_1  PA_MSC_1  \n",
       "59349  i_SB_BK_4  BMI_2  M_STR_2  F_SODA_2  PA_MSC_3  \n",
       "59350  i_SB_BK_2  BMI_1  M_STR_3  F_SODA_5  PA_MSC_6  \n",
       "59351  i_SB_BK_3  BMI_2  M_STR_3  F_SODA_3  PA_MSC_1  \n",
       "\n",
       "[59352 rows x 11 columns]"
      ]
     },
     "execution_count": 5,
     "metadata": {},
     "output_type": "execute_result"
    }
   ],
   "source": [
    "pre_train"
   ]
  },
  {
   "cell_type": "code",
   "execution_count": 6,
   "metadata": {
    "ExecuteTime": {
     "end_time": "2021-01-25T04:43:01.485782Z",
     "start_time": "2021-01-25T04:43:01.359754Z"
    }
   },
   "outputs": [],
   "source": [
    "pre_train= pre_train.applymap(lambda x: x[-1])\n",
    "pre_test= pre_test.applymap(lambda x: x[-1])"
   ]
  },
  {
   "cell_type": "code",
   "execution_count": 7,
   "metadata": {
    "ExecuteTime": {
     "end_time": "2021-01-25T04:43:01.516789Z",
     "start_time": "2021-01-25T04:43:01.487783Z"
    }
   },
   "outputs": [],
   "source": [
    "pre_train.loc[(pre_train.M_SUI_CON == 1),'M_SUI_CON']= 0\n",
    "pre_train.loc[(pre_train.M_SUI_CON == 2),'M_SUI_CON']= 1\n",
    "pre_test.loc[(pre_test.M_SUI_CON == 1),'M_SUI_CON']= 0\n",
    "pre_test.loc[(pre_test.M_SUI_CON == 2),'M_SUI_CON']= 1"
   ]
  },
  {
   "cell_type": "code",
   "execution_count": 8,
   "metadata": {
    "ExecuteTime": {
     "end_time": "2021-01-25T04:43:01.595813Z",
     "start_time": "2021-01-25T04:43:01.517790Z"
    }
   },
   "outputs": [],
   "source": [
    "#랜포라 팩터화 시켜주기\n",
    "for i in range(len(pre_train.columns)):\n",
    "    pre_train[pre_train.columns[i]] = pre_train[pre_train.columns[i]].astype('category')\n",
    "    \n",
    "for i in range(len(pre_test.columns)):\n",
    "    pre_test[pre_test.columns[i]] = pre_test[pre_test.columns[i]].astype('category')"
   ]
  },
  {
   "cell_type": "code",
   "execution_count": 9,
   "metadata": {
    "ExecuteTime": {
     "end_time": "2021-01-25T04:43:01.611815Z",
     "start_time": "2021-01-25T04:43:01.596813Z"
    }
   },
   "outputs": [],
   "source": [
    "train_features = pre_train.drop(['M_SUI_CON'], axis = 1)\n",
    "test_features = pre_test.drop(['M_SUI_CON'], axis = 1)\n",
    "train_label = pre_train['M_SUI_CON']\n",
    "test_label = pre_test['M_SUI_CON']"
   ]
  },
  {
   "cell_type": "markdown",
   "metadata": {},
   "source": [
    "## 모델 정의 및 훈련"
   ]
  },
  {
   "cell_type": "code",
   "execution_count": 12,
   "metadata": {
    "ExecuteTime": {
     "end_time": "2021-01-25T04:43:34.529211Z",
     "start_time": "2021-01-25T04:43:34.514208Z"
    }
   },
   "outputs": [
    {
     "name": "stdout",
     "output_type": "stream",
     "text": [
      "{'bootstrap': [True, False],\n",
      " 'max_depth': [10, 20, 30, 40, 50, 60, 70, 80, 90, 100, 110, None],\n",
      " 'max_features': ['auto', 'sqrt'],\n",
      " 'min_samples_leaf': [1, 2, 4, 6, 8, 10],\n",
      " 'min_samples_split': [2, 4, 6, 8, 10, 12, 14],\n",
      " 'n_estimators': [0, 11, 22, 33, 44, 55, 66, 77, 88, 100]}\n"
     ]
    }
   ],
   "source": [
    "# Number of trees in random forest\n",
    "n_estimators = [int(x) for x in np.linspace(start = 0, stop = 100, num = 10)]\n",
    "# Number of features to consider at every split\n",
    "max_features = ['auto', 'sqrt']\n",
    "# Maximum number of levels in tree\n",
    "max_depth = [int(x) for x in np.linspace(10, 110, num = 11)]\n",
    "max_depth.append(None)\n",
    "# Minimum number of samples required to split a node\n",
    "min_samples_split = [2,4,6,8,10,12,14]\n",
    "# Minimum number of samples required at each leaf node\n",
    "min_samples_leaf = [1, 2, 4,6,8,10]\n",
    "# Method of selecting samples for training each tree\n",
    "bootstrap = [True, False]\n",
    "# Create the random grid\n",
    "random_grid = {'n_estimators': n_estimators,\n",
    "               'max_features': max_features,\n",
    "               'max_depth': max_depth,\n",
    "               'min_samples_split': min_samples_split,\n",
    "               'min_samples_leaf': min_samples_leaf,\n",
    "               'bootstrap': bootstrap}\n",
    "pprint(random_grid)"
   ]
  },
  {
   "cell_type": "code",
   "execution_count": 13,
   "metadata": {
    "ExecuteTime": {
     "end_time": "2021-01-25T04:45:00.708711Z",
     "start_time": "2021-01-25T04:43:36.694357Z"
    }
   },
   "outputs": [
    {
     "name": "stdout",
     "output_type": "stream",
     "text": [
      "Fitting 3 folds for each of 100 candidates, totalling 300 fits\n"
     ]
    },
    {
     "data": {
      "text/plain": [
       "RandomizedSearchCV(cv=3, estimator=RandomForestClassifier(), n_iter=100,\n",
       "                   n_jobs=-1,\n",
       "                   param_distributions={'bootstrap': [True, False],\n",
       "                                        'max_depth': [10, 20, 30, 40, 50, 60,\n",
       "                                                      70, 80, 90, 100, 110,\n",
       "                                                      None],\n",
       "                                        'max_features': ['auto', 'sqrt'],\n",
       "                                        'min_samples_leaf': [1, 2, 4, 6, 8, 10],\n",
       "                                        'min_samples_split': [2, 4, 6, 8, 10,\n",
       "                                                              12, 14],\n",
       "                                        'n_estimators': [0, 11, 22, 33, 44, 55,\n",
       "                                                         66, 77, 88, 100]},\n",
       "                   random_state=42, verbose=2)"
      ]
     },
     "execution_count": 13,
     "metadata": {},
     "output_type": "execute_result"
    }
   ],
   "source": [
    "#GRID SEARCH 시행\n",
    "# Use the random grid to search for best hyperparameters\n",
    "# First create the base model to tune\n",
    "rf = RandomForestClassifier()\n",
    "# Random search of parameters, using 3 fold cross validation, \n",
    "# search across 100 different combinations, and use all available cores\n",
    "rf_random = RandomizedSearchCV(estimator = rf, param_distributions = random_grid, n_iter = 100, cv = 3, verbose=2, random_state=42, n_jobs = -1)\n",
    "# Fit the random search model\n",
    "rf_random.fit(train_features, train_label)"
   ]
  },
  {
   "cell_type": "code",
   "execution_count": 14,
   "metadata": {
    "ExecuteTime": {
     "end_time": "2021-01-25T04:45:28.846036Z",
     "start_time": "2021-01-25T04:45:28.828259Z"
    }
   },
   "outputs": [
    {
     "data": {
      "text/plain": [
       "{'n_estimators': 100,\n",
       " 'min_samples_split': 6,\n",
       " 'min_samples_leaf': 1,\n",
       " 'max_features': 'sqrt',\n",
       " 'max_depth': None,\n",
       " 'bootstrap': False}"
      ]
     },
     "execution_count": 14,
     "metadata": {},
     "output_type": "execute_result"
    }
   ],
   "source": [
    "#최고의 파라미터\n",
    "rf_random.best_params_"
   ]
  },
  {
   "cell_type": "code",
   "execution_count": 15,
   "metadata": {
    "ExecuteTime": {
     "end_time": "2021-01-25T04:45:46.440818Z",
     "start_time": "2021-01-25T04:45:40.744458Z"
    }
   },
   "outputs": [
    {
     "data": {
      "text/plain": [
       "RandomForestClassifier(bootstrap=False, max_features='sqrt',\n",
       "                       min_samples_split=6)"
      ]
     },
     "execution_count": 15,
     "metadata": {},
     "output_type": "execute_result"
    }
   ],
   "source": [
    "#위에 나온 파라미터로 훈련\n",
    "Upgrade_model = RandomForestClassifier(n_estimators = 100, min_samples_split= 6,min_samples_leaf = 1,\n",
    "max_features = 'sqrt',max_depth = None, bootstrap = False)\n",
    "Upgrade_model.fit(train_features, train_label)"
   ]
  },
  {
   "cell_type": "markdown",
   "metadata": {},
   "source": [
    "### 모델 저장(필요시)"
   ]
  },
  {
   "cell_type": "code",
   "execution_count": 17,
   "metadata": {
    "ExecuteTime": {
     "end_time": "2021-01-25T04:46:09.055156Z",
     "start_time": "2021-01-25T04:46:08.919294Z"
    }
   },
   "outputs": [],
   "source": [
    "import pickle\n",
    "# save the Base model to disk\n",
    "Random_Grid_RF_filename = 'Random_Grid_RF.sav'\n",
    "pickle.dump(Upgrade_model, open(Random_Grid_RF_filename, 'wb'))\n",
    "# load the model from disk\n",
    "#Upgrade_model = pickle.load(open(Random_Grid_RF_filename, 'rb'))"
   ]
  },
  {
   "cell_type": "markdown",
   "metadata": {},
   "source": [
    "## 예측 "
   ]
  },
  {
   "cell_type": "code",
   "execution_count": 18,
   "metadata": {
    "ExecuteTime": {
     "end_time": "2021-01-25T04:46:13.397717Z",
     "start_time": "2021-01-25T04:46:13.383200Z"
    }
   },
   "outputs": [],
   "source": [
    "# Performance Measure 출력 함수 만들기\n",
    "from sklearn.metrics import confusion_matrix\n",
    "from sklearn.metrics import accuracy_score\n",
    "from sklearn.metrics import roc_auc_score\n",
    "\n",
    "def model_evaluation(label, predict):\n",
    "    cf_matrix = confusion_matrix(label, predict)\n",
    "    Accuracy = (cf_matrix[0][0] + cf_matrix[1][1]) / sum(sum(cf_matrix))\n",
    "    Precision = cf_matrix[1][1] / (cf_matrix[1][1] + cf_matrix[0][1])\n",
    "    Recall = cf_matrix[1][1] / (cf_matrix[1][1] + cf_matrix[1][0])\n",
    "    Specificity = cf_matrix[0][0] / (cf_matrix[0][0] + cf_matrix[0][1])\n",
    "    F1_Score = (2 * Recall * Precision) / (Recall + Precision)\n",
    "    F2_Score = (5 * Recall * Precision) / (Recall + 4*Precision) # Recall을 Precision보다 2배 중요하게 생각하여 F2 Score 사용\n",
    "    \n",
    "    print(\"Accuracy: \", Accuracy) \n",
    "    print(\"Precision: \", Precision)\n",
    "    print(\"Recall: \", Recall)\n",
    "    print(\"Specificity: \", Specificity)\n",
    "    print(\"F1_Score: \", F1_Score)\n",
    "    print(\"F2_Score: \", F2_Score)"
   ]
  },
  {
   "cell_type": "code",
   "execution_count": 19,
   "metadata": {
    "ExecuteTime": {
     "end_time": "2021-01-25T04:46:15.209312Z",
     "start_time": "2021-01-25T04:46:14.903237Z"
    }
   },
   "outputs": [],
   "source": [
    "y_pred_Upgrade = Upgrade_model.predict(test_features)"
   ]
  },
  {
   "cell_type": "markdown",
   "metadata": {},
   "source": [
    "## 성능 결과"
   ]
  },
  {
   "cell_type": "code",
   "execution_count": 20,
   "metadata": {
    "ExecuteTime": {
     "end_time": "2021-01-25T04:46:15.685469Z",
     "start_time": "2021-01-25T04:46:15.634458Z"
    }
   },
   "outputs": [
    {
     "name": "stdout",
     "output_type": "stream",
     "text": [
      "Accuracy:  0.8127709351131907\n",
      "Precision:  0.3304484657749803\n",
      "Recall:  0.4518558364712211\n",
      "Specificity:  0.8657093261795803\n",
      "F1_Score:  0.3817314246762099\n",
      "F2_Score:  0.4209260372820205\n"
     ]
    }
   ],
   "source": [
    "model_evaluation(test_label, y_pred_Upgrade)"
   ]
  },
  {
   "cell_type": "code",
   "execution_count": 21,
   "metadata": {
    "ExecuteTime": {
     "end_time": "2021-01-25T04:46:16.445936Z",
     "start_time": "2021-01-25T04:46:16.412929Z"
    }
   },
   "outputs": [
    {
     "data": {
      "text/plain": [
       "0.6587825813254007"
      ]
     },
     "execution_count": 21,
     "metadata": {},
     "output_type": "execute_result"
    }
   ],
   "source": [
    "roc_auc_score(test_label, y_pred_Upgrade)"
   ]
  }
 ],
 "metadata": {
  "hide_input": false,
  "kernelspec": {
   "display_name": "Python 3",
   "language": "python",
   "name": "python3"
  },
  "language_info": {
   "codemirror_mode": {
    "name": "ipython",
    "version": 3
   },
   "file_extension": ".py",
   "mimetype": "text/x-python",
   "name": "python",
   "nbconvert_exporter": "python",
   "pygments_lexer": "ipython3",
   "version": "3.7.9"
  },
  "toc": {
   "base_numbering": 1,
   "nav_menu": {},
   "number_sections": true,
   "sideBar": true,
   "skip_h1_title": false,
   "title_cell": "Table of Contents",
   "title_sidebar": "Contents",
   "toc_cell": false,
   "toc_position": {},
   "toc_section_display": true,
   "toc_window_display": false
  },
  "varInspector": {
   "cols": {
    "lenName": 16,
    "lenType": 16,
    "lenVar": 40
   },
   "kernels_config": {
    "python": {
     "delete_cmd_postfix": "",
     "delete_cmd_prefix": "del ",
     "library": "var_list.py",
     "varRefreshCmd": "print(var_dic_list())"
    },
    "r": {
     "delete_cmd_postfix": ") ",
     "delete_cmd_prefix": "rm(",
     "library": "var_list.r",
     "varRefreshCmd": "cat(var_dic_list()) "
    }
   },
   "types_to_exclude": [
    "module",
    "function",
    "builtin_function_or_method",
    "instance",
    "_Feature"
   ],
   "window_display": false
  }
 },
 "nbformat": 4,
 "nbformat_minor": 4
}
