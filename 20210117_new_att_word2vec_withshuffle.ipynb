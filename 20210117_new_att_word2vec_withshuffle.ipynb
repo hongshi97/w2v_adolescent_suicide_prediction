{
 "cells": [
  {
   "cell_type": "code",
   "execution_count": 1,
   "metadata": {
    "ExecuteTime": {
     "end_time": "2021-01-27T07:30:57.108206Z",
     "start_time": "2021-01-27T07:30:51.522233Z"
    }
   },
   "outputs": [],
   "source": [
    "import csv\n",
    "from gensim.models.word2vec import Word2Vec\n",
    "import pandas as pd\n",
    "import numpy as np\n",
    "from keras.utils import np_utils\n",
    "from keras.preprocessing.text import Tokenizer\n"
   ]
  },
  {
   "cell_type": "code",
   "execution_count": 2,
   "metadata": {
    "ExecuteTime": {
     "end_time": "2021-01-27T07:30:57.155009Z",
     "start_time": "2021-01-27T07:30:57.142002Z"
    }
   },
   "outputs": [],
   "source": [
    "from collections import Counter"
   ]
  },
  {
   "cell_type": "markdown",
   "metadata": {},
   "source": [
    "# train은 업샘플링 한거, test은 안한 채로 만든 데이터 셋 불러옴"
   ]
  },
  {
   "cell_type": "code",
   "execution_count": 3,
   "metadata": {
    "ExecuteTime": {
     "end_time": "2021-01-27T07:30:57.329063Z",
     "start_time": "2021-01-27T07:30:57.187023Z"
    }
   },
   "outputs": [],
   "source": [
    "pre_train = pd.read_csv('final_train.csv')\n",
    "pre_test = pd.read_csv('final_test.csv')"
   ]
  },
  {
   "cell_type": "code",
   "execution_count": 4,
   "metadata": {
    "ExecuteTime": {
     "end_time": "2021-01-25T04:00:32.254205Z",
     "start_time": "2021-01-25T04:00:32.223198Z"
    },
    "scrolled": false
   },
   "outputs": [
    {
     "data": {
      "text/html": [
       "<div>\n",
       "<style scoped>\n",
       "    .dataframe tbody tr th:only-of-type {\n",
       "        vertical-align: middle;\n",
       "    }\n",
       "\n",
       "    .dataframe tbody tr th {\n",
       "        vertical-align: top;\n",
       "    }\n",
       "\n",
       "    .dataframe thead th {\n",
       "        text-align: right;\n",
       "    }\n",
       "</style>\n",
       "<table border=\"1\" class=\"dataframe\">\n",
       "  <thead>\n",
       "    <tr style=\"text-align: right;\">\n",
       "      <th></th>\n",
       "      <th>Unnamed: 0</th>\n",
       "      <th>M_SAD</th>\n",
       "      <th>SitTime</th>\n",
       "      <th>PA_TOT</th>\n",
       "      <th>I_SB_EX</th>\n",
       "      <th>I_SB_FR</th>\n",
       "      <th>M_SUI_CON</th>\n",
       "      <th>i_SB_BK</th>\n",
       "      <th>BMI</th>\n",
       "      <th>M_STR</th>\n",
       "      <th>F_SODA</th>\n",
       "      <th>PA_MSC</th>\n",
       "    </tr>\n",
       "  </thead>\n",
       "  <tbody>\n",
       "    <tr>\n",
       "      <th>0</th>\n",
       "      <td>0</td>\n",
       "      <td>M_SAD_1</td>\n",
       "      <td>SitTime_4</td>\n",
       "      <td>PA_TOT_1</td>\n",
       "      <td>I_SB_EX_3</td>\n",
       "      <td>I_SB_FR_3</td>\n",
       "      <td>M_SUI_CON_1</td>\n",
       "      <td>i_SB_BK_3</td>\n",
       "      <td>BMI_1</td>\n",
       "      <td>M_STR_3</td>\n",
       "      <td>F_SODA_3</td>\n",
       "      <td>PA_MSC_1</td>\n",
       "    </tr>\n",
       "    <tr>\n",
       "      <th>1</th>\n",
       "      <td>1</td>\n",
       "      <td>M_SAD_1</td>\n",
       "      <td>SitTime_4</td>\n",
       "      <td>PA_TOT_6</td>\n",
       "      <td>I_SB_EX_2</td>\n",
       "      <td>I_SB_FR_4</td>\n",
       "      <td>M_SUI_CON_1</td>\n",
       "      <td>i_SB_BK_5</td>\n",
       "      <td>BMI_2</td>\n",
       "      <td>M_STR_3</td>\n",
       "      <td>F_SODA_2</td>\n",
       "      <td>PA_MSC_6</td>\n",
       "    </tr>\n",
       "    <tr>\n",
       "      <th>2</th>\n",
       "      <td>2</td>\n",
       "      <td>M_SAD_1</td>\n",
       "      <td>SitTime_2</td>\n",
       "      <td>PA_TOT_1</td>\n",
       "      <td>I_SB_EX_5</td>\n",
       "      <td>I_SB_FR_3</td>\n",
       "      <td>M_SUI_CON_1</td>\n",
       "      <td>i_SB_BK_5</td>\n",
       "      <td>BMI_1</td>\n",
       "      <td>M_STR_3</td>\n",
       "      <td>F_SODA_2</td>\n",
       "      <td>PA_MSC_2</td>\n",
       "    </tr>\n",
       "    <tr>\n",
       "      <th>3</th>\n",
       "      <td>3</td>\n",
       "      <td>M_SAD_1</td>\n",
       "      <td>SitTime_4</td>\n",
       "      <td>PA_TOT_7</td>\n",
       "      <td>I_SB_EX_2</td>\n",
       "      <td>I_SB_FR_2</td>\n",
       "      <td>M_SUI_CON_1</td>\n",
       "      <td>i_SB_BK_2</td>\n",
       "      <td>BMI_1</td>\n",
       "      <td>M_STR_4</td>\n",
       "      <td>F_SODA_4</td>\n",
       "      <td>PA_MSC_3</td>\n",
       "    </tr>\n",
       "    <tr>\n",
       "      <th>4</th>\n",
       "      <td>4</td>\n",
       "      <td>M_SAD_1</td>\n",
       "      <td>SitTime_5</td>\n",
       "      <td>PA_TOT_2</td>\n",
       "      <td>I_SB_EX_2</td>\n",
       "      <td>I_SB_FR_2</td>\n",
       "      <td>M_SUI_CON_1</td>\n",
       "      <td>i_SB_BK_2</td>\n",
       "      <td>BMI_2</td>\n",
       "      <td>M_STR_3</td>\n",
       "      <td>F_SODA_2</td>\n",
       "      <td>PA_MSC_6</td>\n",
       "    </tr>\n",
       "    <tr>\n",
       "      <th>...</th>\n",
       "      <td>...</td>\n",
       "      <td>...</td>\n",
       "      <td>...</td>\n",
       "      <td>...</td>\n",
       "      <td>...</td>\n",
       "      <td>...</td>\n",
       "      <td>...</td>\n",
       "      <td>...</td>\n",
       "      <td>...</td>\n",
       "      <td>...</td>\n",
       "      <td>...</td>\n",
       "      <td>...</td>\n",
       "    </tr>\n",
       "    <tr>\n",
       "      <th>59347</th>\n",
       "      <td>59347</td>\n",
       "      <td>M_SAD_2</td>\n",
       "      <td>SitTime_3</td>\n",
       "      <td>PA_TOT_1</td>\n",
       "      <td>I_SB_EX_2</td>\n",
       "      <td>I_SB_FR_2</td>\n",
       "      <td>M_SUI_CON_2</td>\n",
       "      <td>i_SB_BK_4</td>\n",
       "      <td>BMI_1</td>\n",
       "      <td>M_STR_1</td>\n",
       "      <td>F_SODA_2</td>\n",
       "      <td>PA_MSC_1</td>\n",
       "    </tr>\n",
       "    <tr>\n",
       "      <th>59348</th>\n",
       "      <td>59348</td>\n",
       "      <td>M_SAD_2</td>\n",
       "      <td>SitTime_5</td>\n",
       "      <td>PA_TOT_5</td>\n",
       "      <td>I_SB_EX_4</td>\n",
       "      <td>I_SB_FR_3</td>\n",
       "      <td>M_SUI_CON_2</td>\n",
       "      <td>i_SB_BK_4</td>\n",
       "      <td>BMI_1</td>\n",
       "      <td>M_STR_1</td>\n",
       "      <td>F_SODA_3</td>\n",
       "      <td>PA_MSC_4</td>\n",
       "    </tr>\n",
       "    <tr>\n",
       "      <th>59349</th>\n",
       "      <td>59349</td>\n",
       "      <td>M_SAD_2</td>\n",
       "      <td>SitTime_2</td>\n",
       "      <td>PA_TOT_1</td>\n",
       "      <td>I_SB_EX_1</td>\n",
       "      <td>I_SB_FR_2</td>\n",
       "      <td>M_SUI_CON_2</td>\n",
       "      <td>i_SB_BK_5</td>\n",
       "      <td>BMI_1</td>\n",
       "      <td>M_STR_1</td>\n",
       "      <td>F_SODA_1</td>\n",
       "      <td>PA_MSC_1</td>\n",
       "    </tr>\n",
       "    <tr>\n",
       "      <th>59350</th>\n",
       "      <td>59350</td>\n",
       "      <td>M_SAD_1</td>\n",
       "      <td>SitTime_2</td>\n",
       "      <td>PA_TOT_1</td>\n",
       "      <td>I_SB_EX_2</td>\n",
       "      <td>I_SB_FR_2</td>\n",
       "      <td>M_SUI_CON_2</td>\n",
       "      <td>i_SB_BK_2</td>\n",
       "      <td>BMI_2</td>\n",
       "      <td>M_STR_5</td>\n",
       "      <td>F_SODA_1</td>\n",
       "      <td>PA_MSC_1</td>\n",
       "    </tr>\n",
       "    <tr>\n",
       "      <th>59351</th>\n",
       "      <td>59351</td>\n",
       "      <td>M_SAD_2</td>\n",
       "      <td>SitTime_4</td>\n",
       "      <td>PA_TOT_1</td>\n",
       "      <td>I_SB_EX_2</td>\n",
       "      <td>I_SB_FR_4</td>\n",
       "      <td>M_SUI_CON_2</td>\n",
       "      <td>i_SB_BK_4</td>\n",
       "      <td>BMI_1</td>\n",
       "      <td>M_STR_3</td>\n",
       "      <td>F_SODA_3</td>\n",
       "      <td>PA_MSC_1</td>\n",
       "    </tr>\n",
       "  </tbody>\n",
       "</table>\n",
       "<p>59352 rows × 12 columns</p>\n",
       "</div>"
      ],
      "text/plain": [
       "       Unnamed: 0    M_SAD    SitTime    PA_TOT    I_SB_EX    I_SB_FR  \\\n",
       "0               0  M_SAD_1  SitTime_4  PA_TOT_1  I_SB_EX_3  I_SB_FR_3   \n",
       "1               1  M_SAD_1  SitTime_4  PA_TOT_6  I_SB_EX_2  I_SB_FR_4   \n",
       "2               2  M_SAD_1  SitTime_2  PA_TOT_1  I_SB_EX_5  I_SB_FR_3   \n",
       "3               3  M_SAD_1  SitTime_4  PA_TOT_7  I_SB_EX_2  I_SB_FR_2   \n",
       "4               4  M_SAD_1  SitTime_5  PA_TOT_2  I_SB_EX_2  I_SB_FR_2   \n",
       "...           ...      ...        ...       ...        ...        ...   \n",
       "59347       59347  M_SAD_2  SitTime_3  PA_TOT_1  I_SB_EX_2  I_SB_FR_2   \n",
       "59348       59348  M_SAD_2  SitTime_5  PA_TOT_5  I_SB_EX_4  I_SB_FR_3   \n",
       "59349       59349  M_SAD_2  SitTime_2  PA_TOT_1  I_SB_EX_1  I_SB_FR_2   \n",
       "59350       59350  M_SAD_1  SitTime_2  PA_TOT_1  I_SB_EX_2  I_SB_FR_2   \n",
       "59351       59351  M_SAD_2  SitTime_4  PA_TOT_1  I_SB_EX_2  I_SB_FR_4   \n",
       "\n",
       "         M_SUI_CON    i_SB_BK    BMI    M_STR    F_SODA    PA_MSC  \n",
       "0      M_SUI_CON_1  i_SB_BK_3  BMI_1  M_STR_3  F_SODA_3  PA_MSC_1  \n",
       "1      M_SUI_CON_1  i_SB_BK_5  BMI_2  M_STR_3  F_SODA_2  PA_MSC_6  \n",
       "2      M_SUI_CON_1  i_SB_BK_5  BMI_1  M_STR_3  F_SODA_2  PA_MSC_2  \n",
       "3      M_SUI_CON_1  i_SB_BK_2  BMI_1  M_STR_4  F_SODA_4  PA_MSC_3  \n",
       "4      M_SUI_CON_1  i_SB_BK_2  BMI_2  M_STR_3  F_SODA_2  PA_MSC_6  \n",
       "...            ...        ...    ...      ...       ...       ...  \n",
       "59347  M_SUI_CON_2  i_SB_BK_4  BMI_1  M_STR_1  F_SODA_2  PA_MSC_1  \n",
       "59348  M_SUI_CON_2  i_SB_BK_4  BMI_1  M_STR_1  F_SODA_3  PA_MSC_4  \n",
       "59349  M_SUI_CON_2  i_SB_BK_5  BMI_1  M_STR_1  F_SODA_1  PA_MSC_1  \n",
       "59350  M_SUI_CON_2  i_SB_BK_2  BMI_2  M_STR_5  F_SODA_1  PA_MSC_1  \n",
       "59351  M_SUI_CON_2  i_SB_BK_4  BMI_1  M_STR_3  F_SODA_3  PA_MSC_1  \n",
       "\n",
       "[59352 rows x 12 columns]"
      ]
     },
     "execution_count": 4,
     "metadata": {},
     "output_type": "execute_result"
    }
   ],
   "source": [
    "pre_train"
   ]
  },
  {
   "cell_type": "code",
   "execution_count": 4,
   "metadata": {
    "ExecuteTime": {
     "end_time": "2021-01-27T07:30:57.407086Z",
     "start_time": "2021-01-27T07:30:57.393083Z"
    }
   },
   "outputs": [],
   "source": [
    "pre_train = pre_train.drop(columns = ['Unnamed: 0'])\n",
    "pre_test = pre_test.drop(columns = ['Unnamed: 0'])"
   ]
  },
  {
   "cell_type": "markdown",
   "metadata": {},
   "source": [
    "<b>Train shuffle해줌."
   ]
  },
  {
   "cell_type": "code",
   "execution_count": 5,
   "metadata": {
    "ExecuteTime": {
     "end_time": "2021-01-27T07:30:59.815615Z",
     "start_time": "2021-01-27T07:30:59.790807Z"
    }
   },
   "outputs": [],
   "source": [
    "pre_train=pre_train.sample(frac=1).reset_index(drop=True)"
   ]
  },
  {
   "cell_type": "code",
   "execution_count": 6,
   "metadata": {
    "ExecuteTime": {
     "end_time": "2021-01-27T07:31:00.430305Z",
     "start_time": "2021-01-27T07:31:00.412301Z"
    },
    "scrolled": true
   },
   "outputs": [
    {
     "data": {
      "text/plain": [
       "(59352, 11)"
      ]
     },
     "execution_count": 6,
     "metadata": {},
     "output_type": "execute_result"
    }
   ],
   "source": [
    "pre_train.shape"
   ]
  },
  {
   "cell_type": "code",
   "execution_count": 34,
   "metadata": {
    "ExecuteTime": {
     "end_time": "2021-01-25T04:02:15.074315Z",
     "start_time": "2021-01-25T04:02:14.855068Z"
    }
   },
   "outputs": [],
   "source": [
    "#pre_train.to_csv('good_pretrain.csv')"
   ]
  },
  {
   "cell_type": "markdown",
   "metadata": {},
   "source": [
    "# cbow모델에 넣기 좋게 리스트 형식으로 변환"
   ]
  },
  {
   "cell_type": "code",
   "execution_count": 7,
   "metadata": {
    "ExecuteTime": {
     "end_time": "2021-01-27T07:31:02.588960Z",
     "start_time": "2021-01-27T07:31:02.503931Z"
    }
   },
   "outputs": [],
   "source": [
    "train_list = pre_train.values.tolist()\n",
    "test_list = pre_test.values.tolist()"
   ]
  },
  {
   "cell_type": "code",
   "execution_count": 9,
   "metadata": {
    "ExecuteTime": {
     "end_time": "2021-01-25T04:00:32.429950Z",
     "start_time": "2021-01-25T04:00:32.415947Z"
    }
   },
   "outputs": [
    {
     "data": {
      "text/plain": [
       "59352"
      ]
     },
     "execution_count": 9,
     "metadata": {},
     "output_type": "execute_result"
    }
   ],
   "source": [
    "len(train_list)"
   ]
  },
  {
   "cell_type": "markdown",
   "metadata": {},
   "source": [
    "<b> Tokenizing"
   ]
  },
  {
   "cell_type": "code",
   "execution_count": 8,
   "metadata": {
    "ExecuteTime": {
     "end_time": "2021-01-27T07:31:04.719412Z",
     "start_time": "2021-01-27T07:31:04.701408Z"
    }
   },
   "outputs": [],
   "source": [
    "def tokenize(corpus):\n",
    "    \"\"\"\n",
    "    Tokenize the corpus of text.\n",
    "    :param corpus: list containing a string of text (example: [\"I like playing football with my friends\"])\n",
    "    :return corpus_tokenized: indexed list of words in the corpus, in the same order as the original corpus (the example above would return [[1, 2, 3, 4]])\n",
    "    :return V: size of vocabulary\n",
    "    \"\"\"\n",
    "    tokenizer = Tokenizer()\n",
    "    tokenizer.fit_on_texts(corpus)\n",
    "    corpus_tokenized = tokenizer.texts_to_sequences(corpus)\n",
    "    V = len(tokenizer.word_index)\n",
    "    return corpus_tokenized, V"
   ]
  },
  {
   "cell_type": "code",
   "execution_count": 9,
   "metadata": {
    "ExecuteTime": {
     "end_time": "2021-01-27T07:31:06.046141Z",
     "start_time": "2021-01-27T07:31:05.422814Z"
    }
   },
   "outputs": [
    {
     "data": {
      "text/plain": [
       "58"
      ]
     },
     "execution_count": 9,
     "metadata": {},
     "output_type": "execute_result"
    }
   ],
   "source": [
    "cor, V = tokenize(train_list)\n",
    "V"
   ]
  },
  {
   "cell_type": "code",
   "execution_count": 10,
   "metadata": {
    "ExecuteTime": {
     "end_time": "2021-01-27T07:31:06.526250Z",
     "start_time": "2021-01-27T07:31:06.367214Z"
    }
   },
   "outputs": [
    {
     "data": {
      "text/plain": [
       "58"
      ]
     },
     "execution_count": 10,
     "metadata": {},
     "output_type": "execute_result"
    }
   ],
   "source": [
    "cor_te, V_te = tokenize(test_list)\n",
    "V_te"
   ]
  },
  {
   "cell_type": "markdown",
   "metadata": {},
   "source": [
    "# 모델 훈련"
   ]
  },
  {
   "cell_type": "code",
   "execution_count": 11,
   "metadata": {
    "ExecuteTime": {
     "end_time": "2021-01-27T07:31:10.454565Z",
     "start_time": "2021-01-27T07:31:09.705702Z"
    }
   },
   "outputs": [],
   "source": [
    "model_cbow = Word2Vec(train_list, workers = 6, size = 58 , min_count = 1, window = 5, sg = 0)"
   ]
  },
  {
   "cell_type": "code",
   "execution_count": 12,
   "metadata": {
    "ExecuteTime": {
     "end_time": "2021-01-27T07:31:13.960404Z",
     "start_time": "2021-01-27T07:31:12.820652Z"
    }
   },
   "outputs": [],
   "source": [
    "from sklearn.metrics import confusion_matrix\n",
    "from sklearn.metrics import accuracy_score \n",
    "from sklearn.metrics import classification_report\n",
    "import matplotlib.pyplot as plt\n",
    "from sklearn import metrics\n",
    "from sklearn.metrics import roc_auc_score"
   ]
  },
  {
   "cell_type": "markdown",
   "metadata": {},
   "source": [
    "## 실제 라벨 값을 저장함. actual_tr  : train의 자살 라벨값, acutal_te : test의 자살 라벨값"
   ]
  },
  {
   "cell_type": "code",
   "execution_count": 15,
   "metadata": {
    "ExecuteTime": {
     "end_time": "2021-01-25T04:00:34.801253Z",
     "start_time": "2021-01-25T04:00:34.770200Z"
    }
   },
   "outputs": [],
   "source": [
    "actual_tr = []\n",
    "for i in range(len(train_list)):\n",
    "    actual_tr.append(train_list[i][5])\n",
    "\n",
    "actual_te = []\n",
    "for i in range(len(test_list)):\n",
    "    actual_te.append(test_list[i][5])"
   ]
  },
  {
   "cell_type": "code",
   "execution_count": 37,
   "metadata": {
    "ExecuteTime": {
     "end_time": "2021-01-25T04:32:40.537999Z",
     "start_time": "2021-01-25T04:32:40.519984Z"
    }
   },
   "outputs": [],
   "source": [
    "# Performance Measure 출력 함수 만들기\n",
    "from sklearn.metrics import confusion_matrix\n",
    "from sklearn.metrics import accuracy_score\n",
    "from sklearn.metrics import roc_auc_score\n",
    "\n",
    "def model_evaluation(label, predict):\n",
    "    cf_matrix = confusion_matrix(label, predict)\n",
    "    Accuracy = (cf_matrix[0][0] + cf_matrix[1][1]) / sum(sum(cf_matrix))\n",
    "    Precision = cf_matrix[1][1] / (cf_matrix[1][1] + cf_matrix[0][1])\n",
    "    Recall = cf_matrix[1][1] / (cf_matrix[1][1] + cf_matrix[1][0])\n",
    "    Specificity = cf_matrix[0][0] / (cf_matrix[0][0] + cf_matrix[0][1])\n",
    "    F1_Score = (2 * Recall * Precision) / (Recall + Precision)\n",
    "    F2_Score = (5 * Recall * Precision) / (Recall + 4*Precision) # Recall을 Precision보다 2배 중요하게 생각하여 F2 Score 사용\n",
    "    \n",
    "    print(\"Accuracy: \", Accuracy) \n",
    "    print(\"Precision: \", Precision)\n",
    "    print(\"Recall: \", Recall)\n",
    "    print(\"Specificity: \", Specificity)\n",
    "    print(\"F1_Score: \", F1_Score)\n",
    "    print(\"F2_Score: \", F2_Score)"
   ]
  },
  {
   "cell_type": "markdown",
   "metadata": {},
   "source": [
    "## 구리게 나온 척도 : 비슷한 코사인 유사도를 가진 것으로 예측"
   ]
  },
  {
   "cell_type": "markdown",
   "metadata": {},
   "source": [
    "*** prediction based on counting similarity ***"
   ]
  },
  {
   "cell_type": "code",
   "execution_count": 16,
   "metadata": {
    "ExecuteTime": {
     "end_time": "2021-01-25T04:00:34.817256Z",
     "start_time": "2021-01-25T04:00:34.802254Z"
    }
   },
   "outputs": [],
   "source": [
    "def predict_cbow_count(test_list):\n",
    "    predict_count_list = []\n",
    "    for i in range(len(test_list)):\n",
    "        count_CON2 = 0\n",
    "        count_CON1 = 0\n",
    "        for j in range(len(test_list[i])):\n",
    "            if j == 5:\n",
    "                continue\n",
    "            elif model_cbow.wv.similarity('M_SUI_CON_2', test_list[i][j]) > model_cbow.wv.similarity('M_SUI_CON_1', test_list[i][j]):\n",
    "                count_CON2 += 1\n",
    "            else:\n",
    "                count_CON1 += 1\n",
    "        if count_CON2 > count_CON1:\n",
    "            predict_count_list.append('M_SUI_CON_2')\n",
    "        else:\n",
    "            predict_count_list.append('M_SUI_CON_1')\n",
    "    return predict_count_list"
   ]
  },
  {
   "cell_type": "code",
   "execution_count": 17,
   "metadata": {
    "ExecuteTime": {
     "end_time": "2021-01-25T04:00:55.338216Z",
     "start_time": "2021-01-25T04:00:34.818257Z"
    }
   },
   "outputs": [],
   "source": [
    "#훈련시킨 것 예측 값\n",
    "predict_cbow_count_train = predict_cbow_count(train_list)\n",
    "predict_cbow_count_test = predict_cbow_count(test_list)"
   ]
  },
  {
   "cell_type": "markdown",
   "metadata": {},
   "source": [
    "예측한 결과 분포 확인"
   ]
  },
  {
   "cell_type": "code",
   "execution_count": 18,
   "metadata": {
    "ExecuteTime": {
     "end_time": "2021-01-25T04:00:55.353587Z",
     "start_time": "2021-01-25T04:00:55.339217Z"
    }
   },
   "outputs": [
    {
     "data": {
      "text/plain": [
       "Counter({'M_SUI_CON_1': 32893, 'M_SUI_CON_2': 26459})"
      ]
     },
     "execution_count": 18,
     "metadata": {},
     "output_type": "execute_result"
    }
   ],
   "source": [
    "Counter(predict_cbow_count_train)"
   ]
  },
  {
   "cell_type": "code",
   "execution_count": 19,
   "metadata": {
    "ExecuteTime": {
     "end_time": "2021-01-25T04:00:55.369590Z",
     "start_time": "2021-01-25T04:00:55.355588Z"
    }
   },
   "outputs": [
    {
     "data": {
      "text/plain": [
       "Counter({'M_SUI_CON_1': 10131, 'M_SUI_CON_2': 4402})"
      ]
     },
     "execution_count": 19,
     "metadata": {},
     "output_type": "execute_result"
    }
   ],
   "source": [
    "Counter(predict_cbow_count_test)"
   ]
  },
  {
   "cell_type": "code",
   "execution_count": 20,
   "metadata": {
    "ExecuteTime": {
     "end_time": "2021-01-25T04:00:56.407831Z",
     "start_time": "2021-01-25T04:00:55.370590Z"
    }
   },
   "outputs": [
    {
     "name": "stdout",
     "output_type": "stream",
     "text": [
      "[[21855  7821]\n",
      " [11038 18638]]\n",
      "0.6822516511659253\n",
      "              precision    recall  f1-score   support\n",
      "\n",
      " M_SUI_CON_1       0.66      0.74      0.70     29676\n",
      " M_SUI_CON_2       0.70      0.63      0.66     29676\n",
      "\n",
      "    accuracy                           0.68     59352\n",
      "   macro avg       0.68      0.68      0.68     59352\n",
      "weighted avg       0.68      0.68      0.68     59352\n",
      "\n"
     ]
    }
   ],
   "source": [
    "results_count_tr = confusion_matrix(actual_tr, predict_cbow_count_train)\n",
    "print(results_count_tr)\n",
    "print(accuracy_score(actual_tr, predict_cbow_count_train))\n",
    "print(classification_report(actual_tr, predict_cbow_count_train))"
   ]
  },
  {
   "cell_type": "code",
   "execution_count": 21,
   "metadata": {
    "ExecuteTime": {
     "end_time": "2021-01-25T04:00:56.647393Z",
     "start_time": "2021-01-25T04:00:56.411832Z"
    },
    "scrolled": true
   },
   "outputs": [
    {
     "name": "stdout",
     "output_type": "stream",
     "text": [
      "[[9340 3334]\n",
      " [ 791 1068]]\n",
      "0.7161632147526319\n",
      "              precision    recall  f1-score   support\n",
      "\n",
      " M_SUI_CON_1       0.92      0.74      0.82     12674\n",
      " M_SUI_CON_2       0.24      0.57      0.34      1859\n",
      "\n",
      "    accuracy                           0.72     14533\n",
      "   macro avg       0.58      0.66      0.58     14533\n",
      "weighted avg       0.84      0.72      0.76     14533\n",
      "\n"
     ]
    }
   ],
   "source": [
    "results_count_te = confusion_matrix(actual_te, predict_cbow_count_test)\n",
    "print(results_count_te)\n",
    "print(accuracy_score(actual_te, predict_cbow_count_test))\n",
    "print(classification_report(actual_te, predict_cbow_count_test))"
   ]
  },
  {
   "cell_type": "code",
   "execution_count": null,
   "metadata": {},
   "outputs": [],
   "source": [
    "model_evaluation(actual_te, predict_cbow_count_test)"
   ]
  },
  {
   "cell_type": "markdown",
   "metadata": {},
   "source": [
    "## 잘 나온 측도(맞나?) "
   ]
  },
  {
   "cell_type": "markdown",
   "metadata": {},
   "source": [
    "<b> 각각의 cell의 값들과 라벨 값 사이의 유사도를 측정하여 그 평균값이 더 큰쪽으로 예측하게끔 설정"
   ]
  },
  {
   "cell_type": "code",
   "execution_count": 22,
   "metadata": {
    "ExecuteTime": {
     "end_time": "2021-01-25T04:00:56.663400Z",
     "start_time": "2021-01-25T04:00:56.649393Z"
    }
   },
   "outputs": [],
   "source": [
    "def predict_cbow_avg_sim(test_list):\n",
    "    predict_list = []\n",
    "    for i in range(len(test_list)):\n",
    "        pos_similarity_avg = 0\n",
    "        neg_similarity_avg = 0\n",
    "        for j in range(len(test_list[i])):\n",
    "            if j == 5:\n",
    "                continue\n",
    "            else:\n",
    "                pos_similarity_avg += model_cbow.wv.similarity('M_SUI_CON_2', test_list[i][j])\n",
    "                neg_similarity_avg += model_cbow.wv.similarity('M_SUI_CON_1', test_list[i][j])\n",
    "        if (pos_similarity_avg / (len(test_list[i]) - 1)) >= (neg_similarity_avg / (len(test_list[i]) - 1)):\n",
    "            predict_list.append('M_SUI_CON_2')\n",
    "        else:\n",
    "            predict_list.append('M_SUI_CON_1')\n",
    "    return predict_list\n"
   ]
  },
  {
   "cell_type": "code",
   "execution_count": 23,
   "metadata": {
    "ExecuteTime": {
     "end_time": "2021-01-25T04:01:18.476522Z",
     "start_time": "2021-01-25T04:00:56.664402Z"
    }
   },
   "outputs": [],
   "source": [
    "predict_cbow_sim_train = predict_cbow_avg_sim(train_list)\n",
    "predict_cbow_sim_test = predict_cbow_avg_sim(test_list)"
   ]
  },
  {
   "cell_type": "code",
   "execution_count": 24,
   "metadata": {
    "ExecuteTime": {
     "end_time": "2021-01-25T04:01:18.491527Z",
     "start_time": "2021-01-25T04:01:18.477523Z"
    }
   },
   "outputs": [
    {
     "data": {
      "text/plain": [
       "Counter({'M_SUI_CON_2': 31222, 'M_SUI_CON_1': 28130})"
      ]
     },
     "execution_count": 24,
     "metadata": {},
     "output_type": "execute_result"
    }
   ],
   "source": [
    "Counter(predict_cbow_sim_train)"
   ]
  },
  {
   "cell_type": "code",
   "execution_count": 25,
   "metadata": {
    "ExecuteTime": {
     "end_time": "2021-01-25T04:01:18.507530Z",
     "start_time": "2021-01-25T04:01:18.493528Z"
    }
   },
   "outputs": [
    {
     "data": {
      "text/plain": [
       "Counter({'M_SUI_CON_2': 2606, 'M_SUI_CON_1': 11927})"
      ]
     },
     "execution_count": 25,
     "metadata": {},
     "output_type": "execute_result"
    }
   ],
   "source": [
    "Counter(predict_cbow_sim_test)"
   ]
  },
  {
   "cell_type": "code",
   "execution_count": 26,
   "metadata": {
    "ExecuteTime": {
     "end_time": "2021-01-25T04:01:19.551657Z",
     "start_time": "2021-01-25T04:01:18.508531Z"
    }
   },
   "outputs": [
    {
     "name": "stdout",
     "output_type": "stream",
     "text": [
      "[[27819  1857]\n",
      " [  311 29365]]\n",
      "0.9634721660601159\n",
      "              precision    recall  f1-score   support\n",
      "\n",
      " M_SUI_CON_1       0.99      0.94      0.96     29676\n",
      " M_SUI_CON_2       0.94      0.99      0.96     29676\n",
      "\n",
      "    accuracy                           0.96     59352\n",
      "   macro avg       0.96      0.96      0.96     59352\n",
      "weighted avg       0.96      0.96      0.96     59352\n",
      "\n"
     ]
    }
   ],
   "source": [
    "results_tr = confusion_matrix(actual_tr, predict_cbow_sim_train)\n",
    "print(results_tr)\n",
    "print(accuracy_score(actual_tr, predict_cbow_sim_train))\n",
    "print(classification_report(actual_tr, predict_cbow_sim_train))"
   ]
  },
  {
   "cell_type": "code",
   "execution_count": 27,
   "metadata": {
    "ExecuteTime": {
     "end_time": "2021-01-25T04:01:19.788487Z",
     "start_time": "2021-01-25T04:01:19.552658Z"
    }
   },
   "outputs": [
    {
     "name": "stdout",
     "output_type": "stream",
     "text": [
      "[[11893   781]\n",
      " [   34  1825]]\n",
      "0.9439207321268837\n",
      "              precision    recall  f1-score   support\n",
      "\n",
      " M_SUI_CON_1       1.00      0.94      0.97     12674\n",
      " M_SUI_CON_2       0.70      0.98      0.82      1859\n",
      "\n",
      "    accuracy                           0.94     14533\n",
      "   macro avg       0.85      0.96      0.89     14533\n",
      "weighted avg       0.96      0.94      0.95     14533\n",
      "\n"
     ]
    }
   ],
   "source": [
    "results_te = confusion_matrix(actual_te, predict_cbow_sim_test)\n",
    "print(results_te)\n",
    "print(accuracy_score(actual_te, predict_cbow_sim_test))\n",
    "print(classification_report(actual_te, predict_cbow_sim_test))"
   ]
  },
  {
   "cell_type": "code",
   "execution_count": 39,
   "metadata": {
    "ExecuteTime": {
     "end_time": "2021-01-25T04:32:53.032739Z",
     "start_time": "2021-01-25T04:32:52.990224Z"
    }
   },
   "outputs": [
    {
     "name": "stdout",
     "output_type": "stream",
     "text": [
      "Accuracy:  0.9439207321268837\n",
      "Precision:  0.7003069838833461\n",
      "Recall:  0.9817105970952125\n",
      "Specificity:  0.9383777812845195\n",
      "F1_Score:  0.8174692049272115\n",
      "F2_Score:  0.9086835291774547\n"
     ]
    }
   ],
   "source": [
    "model_evaluation(actual_te, predict_cbow_sim_test)"
   ]
  },
  {
   "cell_type": "code",
   "execution_count": 28,
   "metadata": {
    "ExecuteTime": {
     "end_time": "2021-01-25T04:01:19.804290Z",
     "start_time": "2021-01-25T04:01:19.789487Z"
    }
   },
   "outputs": [
    {
     "data": {
      "text/plain": [
       "M_SUI_CON_1    12674\n",
       "M_SUI_CON_2     1859\n",
       "dtype: int64"
      ]
     },
     "execution_count": 28,
     "metadata": {},
     "output_type": "execute_result"
    }
   ],
   "source": [
    "pd.Series(actual_te).value_counts()"
   ]
  },
  {
   "cell_type": "code",
   "execution_count": 29,
   "metadata": {
    "ExecuteTime": {
     "end_time": "2021-01-25T04:01:19.820294Z",
     "start_time": "2021-01-25T04:01:19.806291Z"
    }
   },
   "outputs": [
    {
     "data": {
      "text/plain": [
       "M_SUI_CON_1    11927\n",
       "M_SUI_CON_2     2606\n",
       "dtype: int64"
      ]
     },
     "execution_count": 29,
     "metadata": {},
     "output_type": "execute_result"
    }
   ],
   "source": [
    "pd.Series(predict_cbow_sim_test).value_counts()"
   ]
  },
  {
   "cell_type": "code",
   "execution_count": 30,
   "metadata": {
    "ExecuteTime": {
     "end_time": "2021-01-25T04:01:19.835630Z",
     "start_time": "2021-01-25T04:01:19.821295Z"
    }
   },
   "outputs": [],
   "source": [
    "from sklearn.metrics import roc_auc_score"
   ]
  },
  {
   "cell_type": "markdown",
   "metadata": {},
   "source": [
    "<b> aucroc 구할라면 라벨값들이 숫자여야해서 M_SUI_CON_1을 0, M_SUI_CON_2을 1로 바꿔줌 근데 생각해보니 밑에 str로 바뀐 숫자가 들어갔을텐데 걍 계산되네 => roc_auc_score안에서 알아서 바꿔주네"
   ]
  },
  {
   "cell_type": "code",
   "execution_count": 31,
   "metadata": {
    "ExecuteTime": {
     "end_time": "2021-01-25T04:01:19.851634Z",
     "start_time": "2021-01-25T04:01:19.836630Z"
    }
   },
   "outputs": [],
   "source": [
    "for_auc_te = []\n",
    "for item in actual_te:\n",
    "    item_mod = int(item.replace(\"M_SUI_CON_2\" , \"1\").replace('M_SUI_CON_1' , \"0\"))\n",
    "    for_auc_te.append(item_mod)"
   ]
  },
  {
   "cell_type": "code",
   "execution_count": 32,
   "metadata": {
    "ExecuteTime": {
     "end_time": "2021-01-25T04:01:19.883431Z",
     "start_time": "2021-01-25T04:01:19.852634Z"
    }
   },
   "outputs": [],
   "source": [
    "for_auc_pred = []\n",
    "for item in predict_cbow_sim_test:\n",
    "    item_mod = int(item.replace(\"M_SUI_CON_2\" , \"1\").replace('M_SUI_CON_1' , \"0\"))\n",
    "    for_auc_pred.append(item_mod)"
   ]
  },
  {
   "cell_type": "code",
   "execution_count": 33,
   "metadata": {
    "ExecuteTime": {
     "end_time": "2021-01-25T04:01:19.899435Z",
     "start_time": "2021-01-25T04:01:19.884432Z"
    }
   },
   "outputs": [
    {
     "data": {
      "text/plain": [
       "0.960044189189866"
      ]
     },
     "execution_count": 33,
     "metadata": {},
     "output_type": "execute_result"
    }
   ],
   "source": [
    "roc_auc_score(for_auc_te, for_auc_pred)"
   ]
  }
 ],
 "metadata": {
  "hide_input": false,
  "kernelspec": {
   "display_name": "Python 3",
   "language": "python",
   "name": "python3"
  },
  "language_info": {
   "codemirror_mode": {
    "name": "ipython",
    "version": 3
   },
   "file_extension": ".py",
   "mimetype": "text/x-python",
   "name": "python",
   "nbconvert_exporter": "python",
   "pygments_lexer": "ipython3",
   "version": "3.7.9"
  },
  "toc": {
   "base_numbering": 1,
   "nav_menu": {},
   "number_sections": true,
   "sideBar": true,
   "skip_h1_title": false,
   "title_cell": "Table of Contents",
   "title_sidebar": "Contents",
   "toc_cell": false,
   "toc_position": {},
   "toc_section_display": true,
   "toc_window_display": false
  },
  "varInspector": {
   "cols": {
    "lenName": 16,
    "lenType": 16,
    "lenVar": 40
   },
   "kernels_config": {
    "python": {
     "delete_cmd_postfix": "",
     "delete_cmd_prefix": "del ",
     "library": "var_list.py",
     "varRefreshCmd": "print(var_dic_list())"
    },
    "r": {
     "delete_cmd_postfix": ") ",
     "delete_cmd_prefix": "rm(",
     "library": "var_list.r",
     "varRefreshCmd": "cat(var_dic_list()) "
    }
   },
   "types_to_exclude": [
    "module",
    "function",
    "builtin_function_or_method",
    "instance",
    "_Feature"
   ],
   "window_display": false
  }
 },
 "nbformat": 4,
 "nbformat_minor": 4
}
