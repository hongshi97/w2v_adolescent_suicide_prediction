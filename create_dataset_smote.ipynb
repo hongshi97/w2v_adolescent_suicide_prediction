{
 "cells": [
  {
   "cell_type": "code",
   "execution_count": 1,
   "metadata": {
    "ExecuteTime": {
     "end_time": "2021-02-05T16:35:44.429420Z",
     "start_time": "2021-02-05T16:35:36.809610Z"
    }
   },
   "outputs": [],
   "source": [
    "import csv\n",
    "from gensim.models.word2vec import Word2Vec\n",
    "import pandas as pd\n",
    "import numpy as np\n",
    "from keras.utils import np_utils\n",
    "from keras.preprocessing.text import Tokenizer"
   ]
  },
  {
   "cell_type": "code",
   "execution_count": 2,
   "metadata": {
    "ExecuteTime": {
     "end_time": "2021-02-05T16:35:45.450807Z",
     "start_time": "2021-02-05T16:35:45.312475Z"
    }
   },
   "outputs": [],
   "source": [
    "train = pd.read_csv('nlp data.csv')"
   ]
  },
  {
   "cell_type": "code",
   "execution_count": 161,
   "metadata": {},
   "outputs": [],
   "source": [
    "train.drop(['Unnamed: 0'], axis = 1, inplace = True)"
   ]
  },
  {
   "cell_type": "code",
   "execution_count": 159,
   "metadata": {},
   "outputs": [],
   "source": [
    "target = [12,24,15,9,7,8,25,5,19,13,11]"
   ]
  },
  {
   "cell_type": "code",
   "execution_count": 162,
   "metadata": {},
   "outputs": [
    {
     "data": {
      "text/plain": [
       "(48442, 1)"
      ]
     },
     "execution_count": 162,
     "metadata": {},
     "output_type": "execute_result"
    }
   ],
   "source": [
    "train.shape"
   ]
  },
  {
   "cell_type": "code",
   "execution_count": 181,
   "metadata": {},
   "outputs": [],
   "source": [
    "#split하고 series로 만들어서 multi index slicing해서 필요한것만챙기기\n",
    "temp_1 = []\n",
    "for i in range(train.shape[0]):\n",
    "    temp_1.append(list(pd.Series(list(train.iloc[i])[0].split())[target]))"
   ]
  },
  {
   "cell_type": "code",
   "execution_count": 183,
   "metadata": {},
   "outputs": [],
   "source": [
    "df = pd.DataFrame(temp_1)"
   ]
  },
  {
   "cell_type": "code",
   "execution_count": 184,
   "metadata": {},
   "outputs": [
    {
     "data": {
      "text/html": [
       "<div>\n",
       "<style scoped>\n",
       "    .dataframe tbody tr th:only-of-type {\n",
       "        vertical-align: middle;\n",
       "    }\n",
       "\n",
       "    .dataframe tbody tr th {\n",
       "        vertical-align: top;\n",
       "    }\n",
       "\n",
       "    .dataframe thead th {\n",
       "        text-align: right;\n",
       "    }\n",
       "</style>\n",
       "<table border=\"1\" class=\"dataframe\">\n",
       "  <thead>\n",
       "    <tr style=\"text-align: right;\">\n",
       "      <th></th>\n",
       "      <th>0</th>\n",
       "      <th>1</th>\n",
       "      <th>2</th>\n",
       "      <th>3</th>\n",
       "      <th>4</th>\n",
       "      <th>5</th>\n",
       "      <th>6</th>\n",
       "      <th>7</th>\n",
       "      <th>8</th>\n",
       "      <th>9</th>\n",
       "      <th>10</th>\n",
       "    </tr>\n",
       "  </thead>\n",
       "  <tbody>\n",
       "    <tr>\n",
       "      <th>0</th>\n",
       "      <td>M_SAD_1</td>\n",
       "      <td>SitTime_3</td>\n",
       "      <td>PA_TOT_2</td>\n",
       "      <td>I_SB_EX_5</td>\n",
       "      <td>I_SB_FR_1</td>\n",
       "      <td>I_SB_BK_5</td>\n",
       "      <td>BMI_1</td>\n",
       "      <td>M_STR_3</td>\n",
       "      <td>F_SODA_2</td>\n",
       "      <td>PA_MSC_2</td>\n",
       "      <td>M_SUI_CON_1</td>\n",
       "    </tr>\n",
       "    <tr>\n",
       "      <th>1</th>\n",
       "      <td>M_SAD_1</td>\n",
       "      <td>SitTime_5</td>\n",
       "      <td>PA_TOT_4</td>\n",
       "      <td>I_SB_EX_2</td>\n",
       "      <td>I_SB_FR_2</td>\n",
       "      <td>I_SB_BK_2</td>\n",
       "      <td>BMI_2</td>\n",
       "      <td>M_STR_3</td>\n",
       "      <td>F_SODA_3</td>\n",
       "      <td>PA_MSC_1</td>\n",
       "      <td>M_SUI_CON_1</td>\n",
       "    </tr>\n",
       "    <tr>\n",
       "      <th>2</th>\n",
       "      <td>M_SAD_1</td>\n",
       "      <td>SitTime_3</td>\n",
       "      <td>PA_TOT_5</td>\n",
       "      <td>I_SB_EX_4</td>\n",
       "      <td>I_SB_FR_2</td>\n",
       "      <td>I_SB_BK_5</td>\n",
       "      <td>BMI_3</td>\n",
       "      <td>M_STR_3</td>\n",
       "      <td>F_SODA_1</td>\n",
       "      <td>PA_MSC_5</td>\n",
       "      <td>M_SUI_CON_1</td>\n",
       "    </tr>\n",
       "    <tr>\n",
       "      <th>3</th>\n",
       "      <td>M_SAD_1</td>\n",
       "      <td>SitTime_2</td>\n",
       "      <td>PA_TOT_5</td>\n",
       "      <td>I_SB_EX_3</td>\n",
       "      <td>I_SB_FR_3</td>\n",
       "      <td>I_SB_BK_5</td>\n",
       "      <td>BMI_3</td>\n",
       "      <td>M_STR_3</td>\n",
       "      <td>F_SODA_1</td>\n",
       "      <td>PA_MSC_3</td>\n",
       "      <td>M_SUI_CON_1</td>\n",
       "    </tr>\n",
       "    <tr>\n",
       "      <th>4</th>\n",
       "      <td>M_SAD_2</td>\n",
       "      <td>SitTime_2</td>\n",
       "      <td>PA_TOT_6</td>\n",
       "      <td>I_SB_EX_5</td>\n",
       "      <td>I_SB_FR_2</td>\n",
       "      <td>I_SB_BK_3</td>\n",
       "      <td>BMI_3</td>\n",
       "      <td>M_STR_2</td>\n",
       "      <td>F_SODA_2</td>\n",
       "      <td>PA_MSC_5</td>\n",
       "      <td>M_SUI_CON_2</td>\n",
       "    </tr>\n",
       "    <tr>\n",
       "      <th>...</th>\n",
       "      <td>...</td>\n",
       "      <td>...</td>\n",
       "      <td>...</td>\n",
       "      <td>...</td>\n",
       "      <td>...</td>\n",
       "      <td>...</td>\n",
       "      <td>...</td>\n",
       "      <td>...</td>\n",
       "      <td>...</td>\n",
       "      <td>...</td>\n",
       "      <td>...</td>\n",
       "    </tr>\n",
       "    <tr>\n",
       "      <th>48437</th>\n",
       "      <td>M_SAD_1</td>\n",
       "      <td>SitTime_5</td>\n",
       "      <td>PA_TOT_1</td>\n",
       "      <td>I_SB_EX_3</td>\n",
       "      <td>I_SB_FR_2</td>\n",
       "      <td>I_SB_BK_4</td>\n",
       "      <td>BMI_2</td>\n",
       "      <td>M_STR_3</td>\n",
       "      <td>F_SODA_3</td>\n",
       "      <td>PA_MSC_1</td>\n",
       "      <td>M_SUI_CON_1</td>\n",
       "    </tr>\n",
       "    <tr>\n",
       "      <th>48438</th>\n",
       "      <td>M_SAD_1</td>\n",
       "      <td>SitTime_5</td>\n",
       "      <td>PA_TOT_4</td>\n",
       "      <td>I_SB_EX_3</td>\n",
       "      <td>I_SB_FR_2</td>\n",
       "      <td>I_SB_BK_4</td>\n",
       "      <td>BMI_3</td>\n",
       "      <td>M_STR_2</td>\n",
       "      <td>F_SODA_3</td>\n",
       "      <td>PA_MSC_1</td>\n",
       "      <td>M_SUI_CON_1</td>\n",
       "    </tr>\n",
       "    <tr>\n",
       "      <th>48439</th>\n",
       "      <td>M_SAD_2</td>\n",
       "      <td>SitTime_1</td>\n",
       "      <td>PA_TOT_5</td>\n",
       "      <td>I_SB_EX_5</td>\n",
       "      <td>I_SB_FR_2</td>\n",
       "      <td>I_SB_BK_5</td>\n",
       "      <td>BMI_2</td>\n",
       "      <td>M_STR_3</td>\n",
       "      <td>F_SODA_2</td>\n",
       "      <td>PA_MSC_1</td>\n",
       "      <td>M_SUI_CON_1</td>\n",
       "    </tr>\n",
       "    <tr>\n",
       "      <th>48440</th>\n",
       "      <td>M_SAD_1</td>\n",
       "      <td>SitTime_2</td>\n",
       "      <td>PA_TOT_1</td>\n",
       "      <td>I_SB_EX_2</td>\n",
       "      <td>I_SB_FR_4</td>\n",
       "      <td>I_SB_BK_5</td>\n",
       "      <td>BMI_2</td>\n",
       "      <td>M_STR_3</td>\n",
       "      <td>F_SODA_2</td>\n",
       "      <td>PA_MSC_1</td>\n",
       "      <td>M_SUI_CON_1</td>\n",
       "    </tr>\n",
       "    <tr>\n",
       "      <th>48441</th>\n",
       "      <td>M_SAD_1</td>\n",
       "      <td>SitTime_3</td>\n",
       "      <td>PA_TOT_5</td>\n",
       "      <td>I_SB_EX_2</td>\n",
       "      <td>I_SB_FR_3</td>\n",
       "      <td>I_SB_BK_5</td>\n",
       "      <td>BMI_2</td>\n",
       "      <td>M_STR_2</td>\n",
       "      <td>F_SODA_6</td>\n",
       "      <td>PA_MSC_1</td>\n",
       "      <td>M_SUI_CON_1</td>\n",
       "    </tr>\n",
       "  </tbody>\n",
       "</table>\n",
       "<p>48442 rows × 11 columns</p>\n",
       "</div>"
      ],
      "text/plain": [
       "            0          1         2          3          4          5      6   \\\n",
       "0      M_SAD_1  SitTime_3  PA_TOT_2  I_SB_EX_5  I_SB_FR_1  I_SB_BK_5  BMI_1   \n",
       "1      M_SAD_1  SitTime_5  PA_TOT_4  I_SB_EX_2  I_SB_FR_2  I_SB_BK_2  BMI_2   \n",
       "2      M_SAD_1  SitTime_3  PA_TOT_5  I_SB_EX_4  I_SB_FR_2  I_SB_BK_5  BMI_3   \n",
       "3      M_SAD_1  SitTime_2  PA_TOT_5  I_SB_EX_3  I_SB_FR_3  I_SB_BK_5  BMI_3   \n",
       "4      M_SAD_2  SitTime_2  PA_TOT_6  I_SB_EX_5  I_SB_FR_2  I_SB_BK_3  BMI_3   \n",
       "...        ...        ...       ...        ...        ...        ...    ...   \n",
       "48437  M_SAD_1  SitTime_5  PA_TOT_1  I_SB_EX_3  I_SB_FR_2  I_SB_BK_4  BMI_2   \n",
       "48438  M_SAD_1  SitTime_5  PA_TOT_4  I_SB_EX_3  I_SB_FR_2  I_SB_BK_4  BMI_3   \n",
       "48439  M_SAD_2  SitTime_1  PA_TOT_5  I_SB_EX_5  I_SB_FR_2  I_SB_BK_5  BMI_2   \n",
       "48440  M_SAD_1  SitTime_2  PA_TOT_1  I_SB_EX_2  I_SB_FR_4  I_SB_BK_5  BMI_2   \n",
       "48441  M_SAD_1  SitTime_3  PA_TOT_5  I_SB_EX_2  I_SB_FR_3  I_SB_BK_5  BMI_2   \n",
       "\n",
       "            7         8         9            10  \n",
       "0      M_STR_3  F_SODA_2  PA_MSC_2  M_SUI_CON_1  \n",
       "1      M_STR_3  F_SODA_3  PA_MSC_1  M_SUI_CON_1  \n",
       "2      M_STR_3  F_SODA_1  PA_MSC_5  M_SUI_CON_1  \n",
       "3      M_STR_3  F_SODA_1  PA_MSC_3  M_SUI_CON_1  \n",
       "4      M_STR_2  F_SODA_2  PA_MSC_5  M_SUI_CON_2  \n",
       "...        ...       ...       ...          ...  \n",
       "48437  M_STR_3  F_SODA_3  PA_MSC_1  M_SUI_CON_1  \n",
       "48438  M_STR_2  F_SODA_3  PA_MSC_1  M_SUI_CON_1  \n",
       "48439  M_STR_3  F_SODA_2  PA_MSC_1  M_SUI_CON_1  \n",
       "48440  M_STR_3  F_SODA_2  PA_MSC_1  M_SUI_CON_1  \n",
       "48441  M_STR_2  F_SODA_6  PA_MSC_1  M_SUI_CON_1  \n",
       "\n",
       "[48442 rows x 11 columns]"
      ]
     },
     "execution_count": 184,
     "metadata": {},
     "output_type": "execute_result"
    }
   ],
   "source": [
    "df"
   ]
  },
  {
   "cell_type": "code",
   "execution_count": 186,
   "metadata": {},
   "outputs": [],
   "source": [
    "df.columns = ['M_SAD','SitTime','PA_TOT','I_SB_EX','I_SB_FR','i_SB_BK','BMI','M_STR','F_SODA','PA_MSC','M_SUI_CON']"
   ]
  },
  {
   "cell_type": "code",
   "execution_count": 187,
   "metadata": {},
   "outputs": [
    {
     "data": {
      "text/html": [
       "<div>\n",
       "<style scoped>\n",
       "    .dataframe tbody tr th:only-of-type {\n",
       "        vertical-align: middle;\n",
       "    }\n",
       "\n",
       "    .dataframe tbody tr th {\n",
       "        vertical-align: top;\n",
       "    }\n",
       "\n",
       "    .dataframe thead th {\n",
       "        text-align: right;\n",
       "    }\n",
       "</style>\n",
       "<table border=\"1\" class=\"dataframe\">\n",
       "  <thead>\n",
       "    <tr style=\"text-align: right;\">\n",
       "      <th></th>\n",
       "      <th>M_SAD</th>\n",
       "      <th>SitTime</th>\n",
       "      <th>PA_TOT</th>\n",
       "      <th>I_SB_EX</th>\n",
       "      <th>I_SB_FR</th>\n",
       "      <th>i_SB_BK</th>\n",
       "      <th>BMI</th>\n",
       "      <th>M_STR</th>\n",
       "      <th>F_SODA</th>\n",
       "      <th>PA_MSC</th>\n",
       "      <th>M_SUI_CON</th>\n",
       "    </tr>\n",
       "  </thead>\n",
       "  <tbody>\n",
       "    <tr>\n",
       "      <th>0</th>\n",
       "      <td>M_SAD_1</td>\n",
       "      <td>SitTime_3</td>\n",
       "      <td>PA_TOT_2</td>\n",
       "      <td>I_SB_EX_5</td>\n",
       "      <td>I_SB_FR_1</td>\n",
       "      <td>I_SB_BK_5</td>\n",
       "      <td>BMI_1</td>\n",
       "      <td>M_STR_3</td>\n",
       "      <td>F_SODA_2</td>\n",
       "      <td>PA_MSC_2</td>\n",
       "      <td>M_SUI_CON_1</td>\n",
       "    </tr>\n",
       "    <tr>\n",
       "      <th>1</th>\n",
       "      <td>M_SAD_1</td>\n",
       "      <td>SitTime_5</td>\n",
       "      <td>PA_TOT_4</td>\n",
       "      <td>I_SB_EX_2</td>\n",
       "      <td>I_SB_FR_2</td>\n",
       "      <td>I_SB_BK_2</td>\n",
       "      <td>BMI_2</td>\n",
       "      <td>M_STR_3</td>\n",
       "      <td>F_SODA_3</td>\n",
       "      <td>PA_MSC_1</td>\n",
       "      <td>M_SUI_CON_1</td>\n",
       "    </tr>\n",
       "    <tr>\n",
       "      <th>2</th>\n",
       "      <td>M_SAD_1</td>\n",
       "      <td>SitTime_3</td>\n",
       "      <td>PA_TOT_5</td>\n",
       "      <td>I_SB_EX_4</td>\n",
       "      <td>I_SB_FR_2</td>\n",
       "      <td>I_SB_BK_5</td>\n",
       "      <td>BMI_3</td>\n",
       "      <td>M_STR_3</td>\n",
       "      <td>F_SODA_1</td>\n",
       "      <td>PA_MSC_5</td>\n",
       "      <td>M_SUI_CON_1</td>\n",
       "    </tr>\n",
       "    <tr>\n",
       "      <th>3</th>\n",
       "      <td>M_SAD_1</td>\n",
       "      <td>SitTime_2</td>\n",
       "      <td>PA_TOT_5</td>\n",
       "      <td>I_SB_EX_3</td>\n",
       "      <td>I_SB_FR_3</td>\n",
       "      <td>I_SB_BK_5</td>\n",
       "      <td>BMI_3</td>\n",
       "      <td>M_STR_3</td>\n",
       "      <td>F_SODA_1</td>\n",
       "      <td>PA_MSC_3</td>\n",
       "      <td>M_SUI_CON_1</td>\n",
       "    </tr>\n",
       "    <tr>\n",
       "      <th>4</th>\n",
       "      <td>M_SAD_2</td>\n",
       "      <td>SitTime_2</td>\n",
       "      <td>PA_TOT_6</td>\n",
       "      <td>I_SB_EX_5</td>\n",
       "      <td>I_SB_FR_2</td>\n",
       "      <td>I_SB_BK_3</td>\n",
       "      <td>BMI_3</td>\n",
       "      <td>M_STR_2</td>\n",
       "      <td>F_SODA_2</td>\n",
       "      <td>PA_MSC_5</td>\n",
       "      <td>M_SUI_CON_2</td>\n",
       "    </tr>\n",
       "    <tr>\n",
       "      <th>...</th>\n",
       "      <td>...</td>\n",
       "      <td>...</td>\n",
       "      <td>...</td>\n",
       "      <td>...</td>\n",
       "      <td>...</td>\n",
       "      <td>...</td>\n",
       "      <td>...</td>\n",
       "      <td>...</td>\n",
       "      <td>...</td>\n",
       "      <td>...</td>\n",
       "      <td>...</td>\n",
       "    </tr>\n",
       "    <tr>\n",
       "      <th>48437</th>\n",
       "      <td>M_SAD_1</td>\n",
       "      <td>SitTime_5</td>\n",
       "      <td>PA_TOT_1</td>\n",
       "      <td>I_SB_EX_3</td>\n",
       "      <td>I_SB_FR_2</td>\n",
       "      <td>I_SB_BK_4</td>\n",
       "      <td>BMI_2</td>\n",
       "      <td>M_STR_3</td>\n",
       "      <td>F_SODA_3</td>\n",
       "      <td>PA_MSC_1</td>\n",
       "      <td>M_SUI_CON_1</td>\n",
       "    </tr>\n",
       "    <tr>\n",
       "      <th>48438</th>\n",
       "      <td>M_SAD_1</td>\n",
       "      <td>SitTime_5</td>\n",
       "      <td>PA_TOT_4</td>\n",
       "      <td>I_SB_EX_3</td>\n",
       "      <td>I_SB_FR_2</td>\n",
       "      <td>I_SB_BK_4</td>\n",
       "      <td>BMI_3</td>\n",
       "      <td>M_STR_2</td>\n",
       "      <td>F_SODA_3</td>\n",
       "      <td>PA_MSC_1</td>\n",
       "      <td>M_SUI_CON_1</td>\n",
       "    </tr>\n",
       "    <tr>\n",
       "      <th>48439</th>\n",
       "      <td>M_SAD_2</td>\n",
       "      <td>SitTime_1</td>\n",
       "      <td>PA_TOT_5</td>\n",
       "      <td>I_SB_EX_5</td>\n",
       "      <td>I_SB_FR_2</td>\n",
       "      <td>I_SB_BK_5</td>\n",
       "      <td>BMI_2</td>\n",
       "      <td>M_STR_3</td>\n",
       "      <td>F_SODA_2</td>\n",
       "      <td>PA_MSC_1</td>\n",
       "      <td>M_SUI_CON_1</td>\n",
       "    </tr>\n",
       "    <tr>\n",
       "      <th>48440</th>\n",
       "      <td>M_SAD_1</td>\n",
       "      <td>SitTime_2</td>\n",
       "      <td>PA_TOT_1</td>\n",
       "      <td>I_SB_EX_2</td>\n",
       "      <td>I_SB_FR_4</td>\n",
       "      <td>I_SB_BK_5</td>\n",
       "      <td>BMI_2</td>\n",
       "      <td>M_STR_3</td>\n",
       "      <td>F_SODA_2</td>\n",
       "      <td>PA_MSC_1</td>\n",
       "      <td>M_SUI_CON_1</td>\n",
       "    </tr>\n",
       "    <tr>\n",
       "      <th>48441</th>\n",
       "      <td>M_SAD_1</td>\n",
       "      <td>SitTime_3</td>\n",
       "      <td>PA_TOT_5</td>\n",
       "      <td>I_SB_EX_2</td>\n",
       "      <td>I_SB_FR_3</td>\n",
       "      <td>I_SB_BK_5</td>\n",
       "      <td>BMI_2</td>\n",
       "      <td>M_STR_2</td>\n",
       "      <td>F_SODA_6</td>\n",
       "      <td>PA_MSC_1</td>\n",
       "      <td>M_SUI_CON_1</td>\n",
       "    </tr>\n",
       "  </tbody>\n",
       "</table>\n",
       "<p>48442 rows × 11 columns</p>\n",
       "</div>"
      ],
      "text/plain": [
       "         M_SAD    SitTime    PA_TOT    I_SB_EX    I_SB_FR    i_SB_BK    BMI  \\\n",
       "0      M_SAD_1  SitTime_3  PA_TOT_2  I_SB_EX_5  I_SB_FR_1  I_SB_BK_5  BMI_1   \n",
       "1      M_SAD_1  SitTime_5  PA_TOT_4  I_SB_EX_2  I_SB_FR_2  I_SB_BK_2  BMI_2   \n",
       "2      M_SAD_1  SitTime_3  PA_TOT_5  I_SB_EX_4  I_SB_FR_2  I_SB_BK_5  BMI_3   \n",
       "3      M_SAD_1  SitTime_2  PA_TOT_5  I_SB_EX_3  I_SB_FR_3  I_SB_BK_5  BMI_3   \n",
       "4      M_SAD_2  SitTime_2  PA_TOT_6  I_SB_EX_5  I_SB_FR_2  I_SB_BK_3  BMI_3   \n",
       "...        ...        ...       ...        ...        ...        ...    ...   \n",
       "48437  M_SAD_1  SitTime_5  PA_TOT_1  I_SB_EX_3  I_SB_FR_2  I_SB_BK_4  BMI_2   \n",
       "48438  M_SAD_1  SitTime_5  PA_TOT_4  I_SB_EX_3  I_SB_FR_2  I_SB_BK_4  BMI_3   \n",
       "48439  M_SAD_2  SitTime_1  PA_TOT_5  I_SB_EX_5  I_SB_FR_2  I_SB_BK_5  BMI_2   \n",
       "48440  M_SAD_1  SitTime_2  PA_TOT_1  I_SB_EX_2  I_SB_FR_4  I_SB_BK_5  BMI_2   \n",
       "48441  M_SAD_1  SitTime_3  PA_TOT_5  I_SB_EX_2  I_SB_FR_3  I_SB_BK_5  BMI_2   \n",
       "\n",
       "         M_STR    F_SODA    PA_MSC    M_SUI_CON  \n",
       "0      M_STR_3  F_SODA_2  PA_MSC_2  M_SUI_CON_1  \n",
       "1      M_STR_3  F_SODA_3  PA_MSC_1  M_SUI_CON_1  \n",
       "2      M_STR_3  F_SODA_1  PA_MSC_5  M_SUI_CON_1  \n",
       "3      M_STR_3  F_SODA_1  PA_MSC_3  M_SUI_CON_1  \n",
       "4      M_STR_2  F_SODA_2  PA_MSC_5  M_SUI_CON_2  \n",
       "...        ...       ...       ...          ...  \n",
       "48437  M_STR_3  F_SODA_3  PA_MSC_1  M_SUI_CON_1  \n",
       "48438  M_STR_2  F_SODA_3  PA_MSC_1  M_SUI_CON_1  \n",
       "48439  M_STR_3  F_SODA_2  PA_MSC_1  M_SUI_CON_1  \n",
       "48440  M_STR_3  F_SODA_2  PA_MSC_1  M_SUI_CON_1  \n",
       "48441  M_STR_2  F_SODA_6  PA_MSC_1  M_SUI_CON_1  \n",
       "\n",
       "[48442 rows x 11 columns]"
      ]
     },
     "execution_count": 187,
     "metadata": {},
     "output_type": "execute_result"
    }
   ],
   "source": [
    "df"
   ]
  },
  {
   "cell_type": "code",
   "execution_count": 189,
   "metadata": {},
   "outputs": [],
   "source": [
    "df.to_csv('whole.csv')"
   ]
  },
  {
   "cell_type": "code",
   "execution_count": 188,
   "metadata": {},
   "outputs": [
    {
     "data": {
      "text/plain": [
       "M_SUI_CON_1    42350\n",
       "M_SUI_CON_2     6092\n",
       "Name: M_SUI_CON, dtype: int64"
      ]
     },
     "execution_count": 188,
     "metadata": {},
     "output_type": "execute_result"
    }
   ],
   "source": [
    "df['M_SUI_CON'].value_counts()"
   ]
  },
  {
   "cell_type": "code",
   "execution_count": 16,
   "metadata": {},
   "outputs": [],
   "source": [
    "from sklearn.model_selection import train_test_split"
   ]
  },
  {
   "cell_type": "markdown",
   "metadata": {},
   "source": [
    "### SMOTE적용을 위해 뒤에 있는 숫자만 남겨놓아보자. SMOTE는 complex data type은 지원안하는듯?"
   ]
  },
  {
   "cell_type": "code",
   "execution_count": 190,
   "metadata": {},
   "outputs": [],
   "source": [
    "df_co = df.copy()"
   ]
  },
  {
   "cell_type": "code",
   "execution_count": 191,
   "metadata": {},
   "outputs": [],
   "source": [
    "df_co = df_co.applymap(lambda x: x[-1])"
   ]
  },
  {
   "cell_type": "code",
   "execution_count": 192,
   "metadata": {
    "scrolled": true
   },
   "outputs": [
    {
     "data": {
      "text/html": [
       "<div>\n",
       "<style scoped>\n",
       "    .dataframe tbody tr th:only-of-type {\n",
       "        vertical-align: middle;\n",
       "    }\n",
       "\n",
       "    .dataframe tbody tr th {\n",
       "        vertical-align: top;\n",
       "    }\n",
       "\n",
       "    .dataframe thead th {\n",
       "        text-align: right;\n",
       "    }\n",
       "</style>\n",
       "<table border=\"1\" class=\"dataframe\">\n",
       "  <thead>\n",
       "    <tr style=\"text-align: right;\">\n",
       "      <th></th>\n",
       "      <th>M_SAD</th>\n",
       "      <th>SitTime</th>\n",
       "      <th>PA_TOT</th>\n",
       "      <th>I_SB_EX</th>\n",
       "      <th>I_SB_FR</th>\n",
       "      <th>i_SB_BK</th>\n",
       "      <th>BMI</th>\n",
       "      <th>M_STR</th>\n",
       "      <th>F_SODA</th>\n",
       "      <th>PA_MSC</th>\n",
       "      <th>M_SUI_CON</th>\n",
       "    </tr>\n",
       "  </thead>\n",
       "  <tbody>\n",
       "    <tr>\n",
       "      <th>0</th>\n",
       "      <td>1</td>\n",
       "      <td>3</td>\n",
       "      <td>2</td>\n",
       "      <td>5</td>\n",
       "      <td>1</td>\n",
       "      <td>5</td>\n",
       "      <td>1</td>\n",
       "      <td>3</td>\n",
       "      <td>2</td>\n",
       "      <td>2</td>\n",
       "      <td>1</td>\n",
       "    </tr>\n",
       "    <tr>\n",
       "      <th>1</th>\n",
       "      <td>1</td>\n",
       "      <td>5</td>\n",
       "      <td>4</td>\n",
       "      <td>2</td>\n",
       "      <td>2</td>\n",
       "      <td>2</td>\n",
       "      <td>2</td>\n",
       "      <td>3</td>\n",
       "      <td>3</td>\n",
       "      <td>1</td>\n",
       "      <td>1</td>\n",
       "    </tr>\n",
       "    <tr>\n",
       "      <th>2</th>\n",
       "      <td>1</td>\n",
       "      <td>3</td>\n",
       "      <td>5</td>\n",
       "      <td>4</td>\n",
       "      <td>2</td>\n",
       "      <td>5</td>\n",
       "      <td>3</td>\n",
       "      <td>3</td>\n",
       "      <td>1</td>\n",
       "      <td>5</td>\n",
       "      <td>1</td>\n",
       "    </tr>\n",
       "    <tr>\n",
       "      <th>3</th>\n",
       "      <td>1</td>\n",
       "      <td>2</td>\n",
       "      <td>5</td>\n",
       "      <td>3</td>\n",
       "      <td>3</td>\n",
       "      <td>5</td>\n",
       "      <td>3</td>\n",
       "      <td>3</td>\n",
       "      <td>1</td>\n",
       "      <td>3</td>\n",
       "      <td>1</td>\n",
       "    </tr>\n",
       "    <tr>\n",
       "      <th>4</th>\n",
       "      <td>2</td>\n",
       "      <td>2</td>\n",
       "      <td>6</td>\n",
       "      <td>5</td>\n",
       "      <td>2</td>\n",
       "      <td>3</td>\n",
       "      <td>3</td>\n",
       "      <td>2</td>\n",
       "      <td>2</td>\n",
       "      <td>5</td>\n",
       "      <td>2</td>\n",
       "    </tr>\n",
       "    <tr>\n",
       "      <th>...</th>\n",
       "      <td>...</td>\n",
       "      <td>...</td>\n",
       "      <td>...</td>\n",
       "      <td>...</td>\n",
       "      <td>...</td>\n",
       "      <td>...</td>\n",
       "      <td>...</td>\n",
       "      <td>...</td>\n",
       "      <td>...</td>\n",
       "      <td>...</td>\n",
       "      <td>...</td>\n",
       "    </tr>\n",
       "    <tr>\n",
       "      <th>48437</th>\n",
       "      <td>1</td>\n",
       "      <td>5</td>\n",
       "      <td>1</td>\n",
       "      <td>3</td>\n",
       "      <td>2</td>\n",
       "      <td>4</td>\n",
       "      <td>2</td>\n",
       "      <td>3</td>\n",
       "      <td>3</td>\n",
       "      <td>1</td>\n",
       "      <td>1</td>\n",
       "    </tr>\n",
       "    <tr>\n",
       "      <th>48438</th>\n",
       "      <td>1</td>\n",
       "      <td>5</td>\n",
       "      <td>4</td>\n",
       "      <td>3</td>\n",
       "      <td>2</td>\n",
       "      <td>4</td>\n",
       "      <td>3</td>\n",
       "      <td>2</td>\n",
       "      <td>3</td>\n",
       "      <td>1</td>\n",
       "      <td>1</td>\n",
       "    </tr>\n",
       "    <tr>\n",
       "      <th>48439</th>\n",
       "      <td>2</td>\n",
       "      <td>1</td>\n",
       "      <td>5</td>\n",
       "      <td>5</td>\n",
       "      <td>2</td>\n",
       "      <td>5</td>\n",
       "      <td>2</td>\n",
       "      <td>3</td>\n",
       "      <td>2</td>\n",
       "      <td>1</td>\n",
       "      <td>1</td>\n",
       "    </tr>\n",
       "    <tr>\n",
       "      <th>48440</th>\n",
       "      <td>1</td>\n",
       "      <td>2</td>\n",
       "      <td>1</td>\n",
       "      <td>2</td>\n",
       "      <td>4</td>\n",
       "      <td>5</td>\n",
       "      <td>2</td>\n",
       "      <td>3</td>\n",
       "      <td>2</td>\n",
       "      <td>1</td>\n",
       "      <td>1</td>\n",
       "    </tr>\n",
       "    <tr>\n",
       "      <th>48441</th>\n",
       "      <td>1</td>\n",
       "      <td>3</td>\n",
       "      <td>5</td>\n",
       "      <td>2</td>\n",
       "      <td>3</td>\n",
       "      <td>5</td>\n",
       "      <td>2</td>\n",
       "      <td>2</td>\n",
       "      <td>6</td>\n",
       "      <td>1</td>\n",
       "      <td>1</td>\n",
       "    </tr>\n",
       "  </tbody>\n",
       "</table>\n",
       "<p>48442 rows × 11 columns</p>\n",
       "</div>"
      ],
      "text/plain": [
       "      M_SAD SitTime PA_TOT I_SB_EX I_SB_FR i_SB_BK BMI M_STR F_SODA PA_MSC  \\\n",
       "0         1       3      2       5       1       5   1     3      2      2   \n",
       "1         1       5      4       2       2       2   2     3      3      1   \n",
       "2         1       3      5       4       2       5   3     3      1      5   \n",
       "3         1       2      5       3       3       5   3     3      1      3   \n",
       "4         2       2      6       5       2       3   3     2      2      5   \n",
       "...     ...     ...    ...     ...     ...     ...  ..   ...    ...    ...   \n",
       "48437     1       5      1       3       2       4   2     3      3      1   \n",
       "48438     1       5      4       3       2       4   3     2      3      1   \n",
       "48439     2       1      5       5       2       5   2     3      2      1   \n",
       "48440     1       2      1       2       4       5   2     3      2      1   \n",
       "48441     1       3      5       2       3       5   2     2      6      1   \n",
       "\n",
       "      M_SUI_CON  \n",
       "0             1  \n",
       "1             1  \n",
       "2             1  \n",
       "3             1  \n",
       "4             2  \n",
       "...         ...  \n",
       "48437         1  \n",
       "48438         1  \n",
       "48439         1  \n",
       "48440         1  \n",
       "48441         1  \n",
       "\n",
       "[48442 rows x 11 columns]"
      ]
     },
     "execution_count": 192,
     "metadata": {},
     "output_type": "execute_result"
    }
   ],
   "source": [
    "df_co"
   ]
  },
  {
   "cell_type": "code",
   "execution_count": 193,
   "metadata": {},
   "outputs": [],
   "source": [
    "X = df_co.drop(['M_SUI_CON'], axis = 1)\n",
    "y = df_co['M_SUI_CON']"
   ]
  },
  {
   "cell_type": "code",
   "execution_count": 194,
   "metadata": {},
   "outputs": [],
   "source": [
    "#X_train, X_test : 70%의 훈련데이터 col들, label 값들.\n",
    "X_train, X_test, y_train, y_test = train_test_split(X,y,test_size=0.3,random_state=10)"
   ]
  },
  {
   "cell_type": "code",
   "execution_count": 195,
   "metadata": {},
   "outputs": [],
   "source": [
    "from imblearn.over_sampling import SMOTE"
   ]
  },
  {
   "cell_type": "code",
   "execution_count": 196,
   "metadata": {},
   "outputs": [
    {
     "name": "stdout",
     "output_type": "stream",
     "text": [
      "SMOTE 적용 전 학습용 피처/레이블 데이터 세트:  (33909, 10) (33909,)\n",
      "SMOTE 적용 후 학습용 피처/레이블 데이터 세트:  (59352, 10) (59352,)\n",
      "SMOTE 적용 후 레이블 값 분포: \n",
      " 2    29676\n",
      "1    29676\n",
      "Name: M_SUI_CON, dtype: int64\n"
     ]
    }
   ],
   "source": [
    "smote = SMOTE(random_state=0)\n",
    "X_train_over,y_train_over = smote.fit_sample(X_train,y_train)\n",
    "print('SMOTE 적용 전 학습용 피처/레이블 데이터 세트: ', X_train.shape, y_train.shape)\n",
    "print('SMOTE 적용 후 학습용 피처/레이블 데이터 세트: ', X_train_over.shape, y_train_over.shape)\n",
    "print('SMOTE 적용 후 레이블 값 분포: \\n', pd.Series(y_train_over).value_counts())"
   ]
  },
  {
   "cell_type": "markdown",
   "metadata": {},
   "source": [
    "### X_train_over, y_train_over : 업샘플된 훈련 데이터, X_test, y_test : 업샘플 안된 테스트 데이터\n",
    "### 원래대로 글자 붙혀서 한번돌려보자"
   ]
  },
  {
   "cell_type": "code",
   "execution_count": 197,
   "metadata": {
    "scrolled": true
   },
   "outputs": [],
   "source": [
    "#SMOTE적용했더니 결과가 float로 변경됨 따라서 얘네들 값 string으로 변경해주자.\n",
    "#우선 int로 변경해주고 str로 변경\n",
    "X_train_over = X_train_over.applymap(lambda x: int(x))"
   ]
  },
  {
   "cell_type": "code",
   "execution_count": 198,
   "metadata": {},
   "outputs": [],
   "source": [
    "y_train_over = y_train_over.apply(lambda x: int(x))"
   ]
  },
  {
   "cell_type": "code",
   "execution_count": 199,
   "metadata": {},
   "outputs": [],
   "source": [
    "X_train_over = X_train_over.applymap(lambda x: str(x))\n",
    "y_train_over = y_train_over.apply(lambda x: str(x))"
   ]
  },
  {
   "cell_type": "code",
   "execution_count": 200,
   "metadata": {},
   "outputs": [],
   "source": [
    "def put_att_name(target_df):\n",
    "    target_cols = list(target_df.columns)\n",
    "    for cols in train_cols:\n",
    "        target_df[cols] = target_df[cols].apply(lambda x: cols + \"_\" + x)\n",
    "    return target_df"
   ]
  },
  {
   "cell_type": "code",
   "execution_count": 201,
   "metadata": {
    "scrolled": false
   },
   "outputs": [
    {
     "name": "stderr",
     "output_type": "stream",
     "text": [
      "c:\\users\\dev_account\\.conda\\envs\\dev_1\\lib\\site-packages\\ipykernel_launcher.py:4: SettingWithCopyWarning: \n",
      "A value is trying to be set on a copy of a slice from a DataFrame.\n",
      "Try using .loc[row_indexer,col_indexer] = value instead\n",
      "\n",
      "See the caveats in the documentation: https://pandas.pydata.org/pandas-docs/stable/user_guide/indexing.html#returning-a-view-versus-a-copy\n",
      "  after removing the cwd from sys.path.\n"
     ]
    }
   ],
   "source": [
    "X_train_over = put_att_name(X_train_over)\n",
    "X_test = put_att_name(X_test)"
   ]
  },
  {
   "cell_type": "code",
   "execution_count": 202,
   "metadata": {},
   "outputs": [
    {
     "data": {
      "text/plain": [
       "0        1\n",
       "1        1\n",
       "2        1\n",
       "3        1\n",
       "4        1\n",
       "        ..\n",
       "59347    2\n",
       "59348    2\n",
       "59349    2\n",
       "59350    2\n",
       "59351    2\n",
       "Name: M_SUI_CON, Length: 59352, dtype: object"
      ]
     },
     "execution_count": 202,
     "metadata": {},
     "output_type": "execute_result"
    }
   ],
   "source": [
    "y_train_over"
   ]
  },
  {
   "cell_type": "code",
   "execution_count": 203,
   "metadata": {},
   "outputs": [],
   "source": [
    "y_train_over = y_train_over.apply(lambda x : 'M_SUI_CON_' + x)\n",
    "y_test = y_test.apply(lambda x : 'M_SUI_CON_' + x)"
   ]
  },
  {
   "cell_type": "markdown",
   "metadata": {},
   "source": [
    "## 저장"
   ]
  },
  {
   "cell_type": "code",
   "execution_count": 204,
   "metadata": {},
   "outputs": [],
   "source": [
    "X = pd.concat([X_train_over, y_train_over], axis = 1)"
   ]
  },
  {
   "cell_type": "code",
   "execution_count": 205,
   "metadata": {},
   "outputs": [],
   "source": [
    "X.to_csv('final_train.csv')"
   ]
  },
  {
   "cell_type": "code",
   "execution_count": 206,
   "metadata": {},
   "outputs": [],
   "source": [
    "y = pd.concat([X_test, y_test], axis = 1)"
   ]
  },
  {
   "cell_type": "code",
   "execution_count": 207,
   "metadata": {},
   "outputs": [],
   "source": [
    "y.to_csv('final_test.csv')"
   ]
  }
 ],
 "metadata": {
  "hide_input": false,
  "kernelspec": {
   "display_name": "Python 3",
   "language": "python",
   "name": "python3"
  },
  "language_info": {
   "codemirror_mode": {
    "name": "ipython",
    "version": 3
   },
   "file_extension": ".py",
   "mimetype": "text/x-python",
   "name": "python",
   "nbconvert_exporter": "python",
   "pygments_lexer": "ipython3",
   "version": "3.7.9"
  },
  "toc": {
   "base_numbering": 1,
   "nav_menu": {},
   "number_sections": true,
   "sideBar": true,
   "skip_h1_title": false,
   "title_cell": "Table of Contents",
   "title_sidebar": "Contents",
   "toc_cell": false,
   "toc_position": {},
   "toc_section_display": true,
   "toc_window_display": false
  },
  "varInspector": {
   "cols": {
    "lenName": 16,
    "lenType": 16,
    "lenVar": 40
   },
   "kernels_config": {
    "python": {
     "delete_cmd_postfix": "",
     "delete_cmd_prefix": "del ",
     "library": "var_list.py",
     "varRefreshCmd": "print(var_dic_list())"
    },
    "r": {
     "delete_cmd_postfix": ") ",
     "delete_cmd_prefix": "rm(",
     "library": "var_list.r",
     "varRefreshCmd": "cat(var_dic_list()) "
    }
   },
   "types_to_exclude": [
    "module",
    "function",
    "builtin_function_or_method",
    "instance",
    "_Feature"
   ],
   "window_display": false
  }
 },
 "nbformat": 4,
 "nbformat_minor": 4
}
