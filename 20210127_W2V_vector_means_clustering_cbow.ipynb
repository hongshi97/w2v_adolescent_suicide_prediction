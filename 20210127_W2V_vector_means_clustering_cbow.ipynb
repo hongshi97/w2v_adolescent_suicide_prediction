{
 "cells": [
  {
   "cell_type": "code",
   "execution_count": 1,
   "metadata": {
    "ExecuteTime": {
     "end_time": "2021-02-05T16:51:21.793430Z",
     "start_time": "2021-02-05T16:51:19.205287Z"
    }
   },
   "outputs": [],
   "source": [
    "import csv\n",
    "from gensim.models.word2vec import Word2Vec\n",
    "import pandas as pd\n",
    "import numpy as np\n",
    "from keras.utils import np_utils\n",
    "from keras.preprocessing.text import Tokenizer\n"
   ]
  },
  {
   "cell_type": "code",
   "execution_count": 2,
   "metadata": {
    "ExecuteTime": {
     "end_time": "2021-02-05T16:51:21.809434Z",
     "start_time": "2021-02-05T16:51:21.795430Z"
    }
   },
   "outputs": [],
   "source": [
    "from collections import Counter"
   ]
  },
  {
   "cell_type": "markdown",
   "metadata": {},
   "source": [
    "# train은 업샘플링 한거, test은 안한 채로 만든 데이터 셋 불러옴"
   ]
  },
  {
   "cell_type": "code",
   "execution_count": 3,
   "metadata": {
    "ExecuteTime": {
     "end_time": "2021-02-05T16:51:21.936780Z",
     "start_time": "2021-02-05T16:51:21.813434Z"
    }
   },
   "outputs": [],
   "source": [
    "pre_train = pd.read_csv('good_pretrain.csv')\n",
    "pre_test = pd.read_csv('final_test.csv')"
   ]
  },
  {
   "cell_type": "code",
   "execution_count": 4,
   "metadata": {
    "ExecuteTime": {
     "end_time": "2021-02-05T16:51:21.968788Z",
     "start_time": "2021-02-05T16:51:21.937780Z"
    },
    "scrolled": false
   },
   "outputs": [
    {
     "data": {
      "text/html": [
       "<div>\n",
       "<style scoped>\n",
       "    .dataframe tbody tr th:only-of-type {\n",
       "        vertical-align: middle;\n",
       "    }\n",
       "\n",
       "    .dataframe tbody tr th {\n",
       "        vertical-align: top;\n",
       "    }\n",
       "\n",
       "    .dataframe thead th {\n",
       "        text-align: right;\n",
       "    }\n",
       "</style>\n",
       "<table border=\"1\" class=\"dataframe\">\n",
       "  <thead>\n",
       "    <tr style=\"text-align: right;\">\n",
       "      <th></th>\n",
       "      <th>Unnamed: 0</th>\n",
       "      <th>M_SAD</th>\n",
       "      <th>SitTime</th>\n",
       "      <th>PA_TOT</th>\n",
       "      <th>I_SB_EX</th>\n",
       "      <th>I_SB_FR</th>\n",
       "      <th>M_SUI_CON</th>\n",
       "      <th>i_SB_BK</th>\n",
       "      <th>BMI</th>\n",
       "      <th>M_STR</th>\n",
       "      <th>F_SODA</th>\n",
       "      <th>PA_MSC</th>\n",
       "    </tr>\n",
       "  </thead>\n",
       "  <tbody>\n",
       "    <tr>\n",
       "      <th>0</th>\n",
       "      <td>0</td>\n",
       "      <td>M_SAD_2</td>\n",
       "      <td>SitTime_3</td>\n",
       "      <td>PA_TOT_5</td>\n",
       "      <td>I_SB_EX_5</td>\n",
       "      <td>I_SB_FR_2</td>\n",
       "      <td>M_SUI_CON_2</td>\n",
       "      <td>i_SB_BK_4</td>\n",
       "      <td>BMI_1</td>\n",
       "      <td>M_STR_1</td>\n",
       "      <td>F_SODA_4</td>\n",
       "      <td>PA_MSC_4</td>\n",
       "    </tr>\n",
       "    <tr>\n",
       "      <th>1</th>\n",
       "      <td>1</td>\n",
       "      <td>M_SAD_1</td>\n",
       "      <td>SitTime_0</td>\n",
       "      <td>PA_TOT_4</td>\n",
       "      <td>I_SB_EX_2</td>\n",
       "      <td>I_SB_FR_2</td>\n",
       "      <td>M_SUI_CON_1</td>\n",
       "      <td>i_SB_BK_2</td>\n",
       "      <td>BMI_1</td>\n",
       "      <td>M_STR_4</td>\n",
       "      <td>F_SODA_2</td>\n",
       "      <td>PA_MSC_6</td>\n",
       "    </tr>\n",
       "    <tr>\n",
       "      <th>2</th>\n",
       "      <td>2</td>\n",
       "      <td>M_SAD_1</td>\n",
       "      <td>SitTime_3</td>\n",
       "      <td>PA_TOT_2</td>\n",
       "      <td>I_SB_EX_5</td>\n",
       "      <td>I_SB_FR_5</td>\n",
       "      <td>M_SUI_CON_1</td>\n",
       "      <td>i_SB_BK_5</td>\n",
       "      <td>BMI_2</td>\n",
       "      <td>M_STR_3</td>\n",
       "      <td>F_SODA_1</td>\n",
       "      <td>PA_MSC_1</td>\n",
       "    </tr>\n",
       "    <tr>\n",
       "      <th>3</th>\n",
       "      <td>3</td>\n",
       "      <td>M_SAD_1</td>\n",
       "      <td>SitTime_0</td>\n",
       "      <td>PA_TOT_1</td>\n",
       "      <td>I_SB_EX_1</td>\n",
       "      <td>I_SB_FR_1</td>\n",
       "      <td>M_SUI_CON_1</td>\n",
       "      <td>i_SB_BK_1</td>\n",
       "      <td>BMI_1</td>\n",
       "      <td>M_STR_3</td>\n",
       "      <td>F_SODA_1</td>\n",
       "      <td>PA_MSC_1</td>\n",
       "    </tr>\n",
       "    <tr>\n",
       "      <th>4</th>\n",
       "      <td>4</td>\n",
       "      <td>M_SAD_1</td>\n",
       "      <td>SitTime_1</td>\n",
       "      <td>PA_TOT_1</td>\n",
       "      <td>I_SB_EX_2</td>\n",
       "      <td>I_SB_FR_2</td>\n",
       "      <td>M_SUI_CON_1</td>\n",
       "      <td>i_SB_BK_2</td>\n",
       "      <td>BMI_1</td>\n",
       "      <td>M_STR_4</td>\n",
       "      <td>F_SODA_3</td>\n",
       "      <td>PA_MSC_1</td>\n",
       "    </tr>\n",
       "    <tr>\n",
       "      <th>...</th>\n",
       "      <td>...</td>\n",
       "      <td>...</td>\n",
       "      <td>...</td>\n",
       "      <td>...</td>\n",
       "      <td>...</td>\n",
       "      <td>...</td>\n",
       "      <td>...</td>\n",
       "      <td>...</td>\n",
       "      <td>...</td>\n",
       "      <td>...</td>\n",
       "      <td>...</td>\n",
       "      <td>...</td>\n",
       "    </tr>\n",
       "    <tr>\n",
       "      <th>59347</th>\n",
       "      <td>59347</td>\n",
       "      <td>M_SAD_2</td>\n",
       "      <td>SitTime_2</td>\n",
       "      <td>PA_TOT_2</td>\n",
       "      <td>I_SB_EX_2</td>\n",
       "      <td>I_SB_FR_2</td>\n",
       "      <td>M_SUI_CON_1</td>\n",
       "      <td>i_SB_BK_2</td>\n",
       "      <td>BMI_2</td>\n",
       "      <td>M_STR_2</td>\n",
       "      <td>F_SODA_3</td>\n",
       "      <td>PA_MSC_3</td>\n",
       "    </tr>\n",
       "    <tr>\n",
       "      <th>59348</th>\n",
       "      <td>59348</td>\n",
       "      <td>M_SAD_1</td>\n",
       "      <td>SitTime_4</td>\n",
       "      <td>PA_TOT_1</td>\n",
       "      <td>I_SB_EX_5</td>\n",
       "      <td>I_SB_FR_5</td>\n",
       "      <td>M_SUI_CON_1</td>\n",
       "      <td>i_SB_BK_5</td>\n",
       "      <td>BMI_1</td>\n",
       "      <td>M_STR_4</td>\n",
       "      <td>F_SODA_1</td>\n",
       "      <td>PA_MSC_1</td>\n",
       "    </tr>\n",
       "    <tr>\n",
       "      <th>59349</th>\n",
       "      <td>59349</td>\n",
       "      <td>M_SAD_2</td>\n",
       "      <td>SitTime_0</td>\n",
       "      <td>PA_TOT_1</td>\n",
       "      <td>I_SB_EX_2</td>\n",
       "      <td>I_SB_FR_2</td>\n",
       "      <td>M_SUI_CON_2</td>\n",
       "      <td>i_SB_BK_4</td>\n",
       "      <td>BMI_2</td>\n",
       "      <td>M_STR_2</td>\n",
       "      <td>F_SODA_2</td>\n",
       "      <td>PA_MSC_3</td>\n",
       "    </tr>\n",
       "    <tr>\n",
       "      <th>59350</th>\n",
       "      <td>59350</td>\n",
       "      <td>M_SAD_1</td>\n",
       "      <td>SitTime_1</td>\n",
       "      <td>PA_TOT_1</td>\n",
       "      <td>I_SB_EX_2</td>\n",
       "      <td>I_SB_FR_2</td>\n",
       "      <td>M_SUI_CON_2</td>\n",
       "      <td>i_SB_BK_2</td>\n",
       "      <td>BMI_1</td>\n",
       "      <td>M_STR_3</td>\n",
       "      <td>F_SODA_5</td>\n",
       "      <td>PA_MSC_6</td>\n",
       "    </tr>\n",
       "    <tr>\n",
       "      <th>59351</th>\n",
       "      <td>59351</td>\n",
       "      <td>M_SAD_1</td>\n",
       "      <td>SitTime_5</td>\n",
       "      <td>PA_TOT_1</td>\n",
       "      <td>I_SB_EX_4</td>\n",
       "      <td>I_SB_FR_2</td>\n",
       "      <td>M_SUI_CON_1</td>\n",
       "      <td>i_SB_BK_3</td>\n",
       "      <td>BMI_2</td>\n",
       "      <td>M_STR_3</td>\n",
       "      <td>F_SODA_3</td>\n",
       "      <td>PA_MSC_1</td>\n",
       "    </tr>\n",
       "  </tbody>\n",
       "</table>\n",
       "<p>59352 rows × 12 columns</p>\n",
       "</div>"
      ],
      "text/plain": [
       "       Unnamed: 0    M_SAD    SitTime    PA_TOT    I_SB_EX    I_SB_FR  \\\n",
       "0               0  M_SAD_2  SitTime_3  PA_TOT_5  I_SB_EX_5  I_SB_FR_2   \n",
       "1               1  M_SAD_1  SitTime_0  PA_TOT_4  I_SB_EX_2  I_SB_FR_2   \n",
       "2               2  M_SAD_1  SitTime_3  PA_TOT_2  I_SB_EX_5  I_SB_FR_5   \n",
       "3               3  M_SAD_1  SitTime_0  PA_TOT_1  I_SB_EX_1  I_SB_FR_1   \n",
       "4               4  M_SAD_1  SitTime_1  PA_TOT_1  I_SB_EX_2  I_SB_FR_2   \n",
       "...           ...      ...        ...       ...        ...        ...   \n",
       "59347       59347  M_SAD_2  SitTime_2  PA_TOT_2  I_SB_EX_2  I_SB_FR_2   \n",
       "59348       59348  M_SAD_1  SitTime_4  PA_TOT_1  I_SB_EX_5  I_SB_FR_5   \n",
       "59349       59349  M_SAD_2  SitTime_0  PA_TOT_1  I_SB_EX_2  I_SB_FR_2   \n",
       "59350       59350  M_SAD_1  SitTime_1  PA_TOT_1  I_SB_EX_2  I_SB_FR_2   \n",
       "59351       59351  M_SAD_1  SitTime_5  PA_TOT_1  I_SB_EX_4  I_SB_FR_2   \n",
       "\n",
       "         M_SUI_CON    i_SB_BK    BMI    M_STR    F_SODA    PA_MSC  \n",
       "0      M_SUI_CON_2  i_SB_BK_4  BMI_1  M_STR_1  F_SODA_4  PA_MSC_4  \n",
       "1      M_SUI_CON_1  i_SB_BK_2  BMI_1  M_STR_4  F_SODA_2  PA_MSC_6  \n",
       "2      M_SUI_CON_1  i_SB_BK_5  BMI_2  M_STR_3  F_SODA_1  PA_MSC_1  \n",
       "3      M_SUI_CON_1  i_SB_BK_1  BMI_1  M_STR_3  F_SODA_1  PA_MSC_1  \n",
       "4      M_SUI_CON_1  i_SB_BK_2  BMI_1  M_STR_4  F_SODA_3  PA_MSC_1  \n",
       "...            ...        ...    ...      ...       ...       ...  \n",
       "59347  M_SUI_CON_1  i_SB_BK_2  BMI_2  M_STR_2  F_SODA_3  PA_MSC_3  \n",
       "59348  M_SUI_CON_1  i_SB_BK_5  BMI_1  M_STR_4  F_SODA_1  PA_MSC_1  \n",
       "59349  M_SUI_CON_2  i_SB_BK_4  BMI_2  M_STR_2  F_SODA_2  PA_MSC_3  \n",
       "59350  M_SUI_CON_2  i_SB_BK_2  BMI_1  M_STR_3  F_SODA_5  PA_MSC_6  \n",
       "59351  M_SUI_CON_1  i_SB_BK_3  BMI_2  M_STR_3  F_SODA_3  PA_MSC_1  \n",
       "\n",
       "[59352 rows x 12 columns]"
      ]
     },
     "execution_count": 4,
     "metadata": {},
     "output_type": "execute_result"
    }
   ],
   "source": [
    "pre_train"
   ]
  },
  {
   "cell_type": "code",
   "execution_count": 5,
   "metadata": {
    "ExecuteTime": {
     "end_time": "2021-02-05T16:51:21.984792Z",
     "start_time": "2021-02-05T16:51:21.969788Z"
    }
   },
   "outputs": [],
   "source": [
    "pre_train = pre_train.drop(columns = ['Unnamed: 0'])\n",
    "pre_test = pre_test.drop(columns = ['Unnamed: 0'])"
   ]
  },
  {
   "cell_type": "markdown",
   "metadata": {},
   "source": [
    "# cbow모델에 넣기 좋게 리스트 형식으로 변환"
   ]
  },
  {
   "cell_type": "code",
   "execution_count": 6,
   "metadata": {
    "ExecuteTime": {
     "end_time": "2021-02-05T16:51:22.080508Z",
     "start_time": "2021-02-05T16:51:21.987792Z"
    }
   },
   "outputs": [],
   "source": [
    "train_list = pre_train.values.tolist()\n",
    "test_list = pre_test.values.tolist()"
   ]
  },
  {
   "cell_type": "code",
   "execution_count": 7,
   "metadata": {
    "ExecuteTime": {
     "end_time": "2021-02-05T16:51:22.095513Z",
     "start_time": "2021-02-05T16:51:22.081510Z"
    }
   },
   "outputs": [
    {
     "data": {
      "text/plain": [
       "59352"
      ]
     },
     "execution_count": 7,
     "metadata": {},
     "output_type": "execute_result"
    }
   ],
   "source": [
    "len(train_list)"
   ]
  },
  {
   "cell_type": "markdown",
   "metadata": {},
   "source": [
    "<b> Tokenizing"
   ]
  },
  {
   "cell_type": "code",
   "execution_count": 8,
   "metadata": {
    "ExecuteTime": {
     "end_time": "2021-02-05T16:51:22.110516Z",
     "start_time": "2021-02-05T16:51:22.097513Z"
    }
   },
   "outputs": [],
   "source": [
    "def tokenize(corpus):\n",
    "    \"\"\"\n",
    "    Tokenize the corpus of text.\n",
    "    :param corpus: list containing a string of text (example: [\"I like playing football with my friends\"])\n",
    "    :return corpus_tokenized: indexed list of words in the corpus, in the same order as the original corpus (the example above would return [[1, 2, 3, 4]])\n",
    "    :return V: size of vocabulary\n",
    "    \"\"\"\n",
    "    tokenizer = Tokenizer()\n",
    "    tokenizer.fit_on_texts(corpus)\n",
    "    corpus_tokenized = tokenizer.texts_to_sequences(corpus)\n",
    "    V = len(tokenizer.word_index)\n",
    "    return corpus_tokenized, V"
   ]
  },
  {
   "cell_type": "code",
   "execution_count": 9,
   "metadata": {
    "ExecuteTime": {
     "end_time": "2021-02-05T16:51:22.702650Z",
     "start_time": "2021-02-05T16:51:22.111517Z"
    }
   },
   "outputs": [
    {
     "data": {
      "text/plain": [
       "58"
      ]
     },
     "execution_count": 9,
     "metadata": {},
     "output_type": "execute_result"
    }
   ],
   "source": [
    "cor, V = tokenize(train_list)\n",
    "V"
   ]
  },
  {
   "cell_type": "code",
   "execution_count": 10,
   "metadata": {
    "ExecuteTime": {
     "end_time": "2021-02-05T16:51:22.860691Z",
     "start_time": "2021-02-05T16:51:22.703650Z"
    }
   },
   "outputs": [
    {
     "data": {
      "text/plain": [
       "58"
      ]
     },
     "execution_count": 10,
     "metadata": {},
     "output_type": "execute_result"
    }
   ],
   "source": [
    "cor_te, V_te = tokenize(test_list)\n",
    "V_te"
   ]
  },
  {
   "cell_type": "markdown",
   "metadata": {},
   "source": [
    "# 모델 훈련 sg = 1이라 지금은 skip gram"
   ]
  },
  {
   "cell_type": "code",
   "execution_count": 11,
   "metadata": {
    "ExecuteTime": {
     "end_time": "2021-02-05T16:51:23.660879Z",
     "start_time": "2021-02-05T16:51:22.862693Z"
    }
   },
   "outputs": [],
   "source": [
    "model_cbow = Word2Vec(train_list, workers = 6, size = 150 , min_count = 1, window = 11, sg = 0)"
   ]
  },
  {
   "cell_type": "markdown",
   "metadata": {},
   "source": [
    "## Vocab들 모으기 (test data)"
   ]
  },
  {
   "cell_type": "code",
   "execution_count": 12,
   "metadata": {
    "ExecuteTime": {
     "end_time": "2021-02-05T16:51:23.676390Z",
     "start_time": "2021-02-05T16:51:23.661879Z"
    }
   },
   "outputs": [],
   "source": [
    "#create Vocab dict\n",
    "cols = []\n",
    "for temp in pre_test.columns:\n",
    "    target = pre_test[temp].unique()\n",
    "    for tesla in target:\n",
    "        cols.append(tesla)"
   ]
  },
  {
   "cell_type": "code",
   "execution_count": 13,
   "metadata": {
    "ExecuteTime": {
     "end_time": "2021-02-05T16:51:23.692393Z",
     "start_time": "2021-02-05T16:51:23.677390Z"
    },
    "scrolled": true
   },
   "outputs": [
    {
     "data": {
      "text/plain": [
       "58"
      ]
     },
     "execution_count": 13,
     "metadata": {},
     "output_type": "execute_result"
    }
   ],
   "source": [
    "len(cols)"
   ]
  },
  {
   "cell_type": "markdown",
   "metadata": {},
   "source": [
    "## Vocab 들을 각각 M_SUI_CON_1, M_SUI_CON_2와 유클리디안 거리를 구해. "
   ]
  },
  {
   "cell_type": "markdown",
   "metadata": {},
   "source": [
    "센트로이드는 M_SUI_CON_1, M_SUI_CON_2\n",
    "Vocab들을 전부 센트로이드들이랑 유클리디안 거리를 구하고, 둘 중 가까운 쪽에다가 할당"
   ]
  },
  {
   "cell_type": "code",
   "execution_count": 14,
   "metadata": {
    "ExecuteTime": {
     "end_time": "2021-02-05T16:51:23.708397Z",
     "start_time": "2021-02-05T16:51:23.693394Z"
    }
   },
   "outputs": [],
   "source": [
    "def vec_means(cols, model):\n",
    "    c1 = model.wv['M_SUI_CON_1']\n",
    "    c2 = model.wv['M_SUI_CON_2']\n",
    "    c1_cluster = []\n",
    "    c2_cluster = []\n",
    "    for col in cols:\n",
    "        temp = []\n",
    "        if np.linalg.norm(c1 - model.wv[col]) > np.linalg.norm(c2 - model.wv[col]): #거리가 더 짧은 센트로이드에 할당이므로\n",
    "            temp.append(col)\n",
    "            temp.append(np.linalg.norm(c2 - model.wv[col]))\n",
    "            c2_cluster.append(temp)\n",
    "        else:\n",
    "            temp.append(col)\n",
    "            temp.append(np.linalg.norm(c1 - model.wv[col]))\n",
    "            c1_cluster.append(temp)\n",
    "            \n",
    "    return c1_cluster, c2_cluster\n",
    "    "
   ]
  },
  {
   "cell_type": "code",
   "execution_count": 15,
   "metadata": {
    "ExecuteTime": {
     "end_time": "2021-02-05T16:51:23.724400Z",
     "start_time": "2021-02-05T16:51:23.709397Z"
    }
   },
   "outputs": [],
   "source": [
    "c1_c , c2_c = vec_means(cols, model_cbow)"
   ]
  },
  {
   "cell_type": "code",
   "execution_count": 16,
   "metadata": {
    "ExecuteTime": {
     "end_time": "2021-02-05T16:51:23.740405Z",
     "start_time": "2021-02-05T16:51:23.726401Z"
    }
   },
   "outputs": [],
   "source": [
    "c1_c = pd.DataFrame(c1_c)\n",
    "c2_c = pd.DataFrame(c2_c)"
   ]
  },
  {
   "cell_type": "code",
   "execution_count": 17,
   "metadata": {
    "ExecuteTime": {
     "end_time": "2021-02-05T16:51:23.756408Z",
     "start_time": "2021-02-05T16:51:23.741405Z"
    }
   },
   "outputs": [],
   "source": [
    "c1_c.columns = ['Variables_con1', 'Euclidean distance_1']\n",
    "c2_c.columns = ['Variables_con2', 'Euclidean distance_2']"
   ]
  },
  {
   "cell_type": "code",
   "execution_count": 18,
   "metadata": {
    "ExecuteTime": {
     "end_time": "2021-02-05T16:51:23.772412Z",
     "start_time": "2021-02-05T16:51:23.757409Z"
    }
   },
   "outputs": [],
   "source": [
    "c1_c = c1_c.sort_values(by = 'Euclidean distance_1')\n",
    "c2_c = c2_c.sort_values(by = 'Euclidean distance_2')"
   ]
  },
  {
   "cell_type": "code",
   "execution_count": 19,
   "metadata": {
    "ExecuteTime": {
     "end_time": "2021-02-05T16:51:23.788416Z",
     "start_time": "2021-02-05T16:51:23.773412Z"
    }
   },
   "outputs": [],
   "source": [
    "c1_c.reset_index(drop = True, inplace = True)"
   ]
  },
  {
   "cell_type": "code",
   "execution_count": 20,
   "metadata": {
    "ExecuteTime": {
     "end_time": "2021-02-05T16:51:23.804419Z",
     "start_time": "2021-02-05T16:51:23.790416Z"
    }
   },
   "outputs": [],
   "source": [
    "c2_c.reset_index(drop = True, inplace = True)"
   ]
  },
  {
   "cell_type": "code",
   "execution_count": 23,
   "metadata": {
    "ExecuteTime": {
     "end_time": "2021-02-05T16:52:58.703856Z",
     "start_time": "2021-02-05T16:52:58.691855Z"
    }
   },
   "outputs": [],
   "source": [
    "con = pd.concat([c1_c, c2_c], axis = 1)"
   ]
  },
  {
   "cell_type": "code",
   "execution_count": 24,
   "metadata": {
    "ExecuteTime": {
     "end_time": "2021-02-05T16:52:59.431385Z",
     "start_time": "2021-02-05T16:52:59.404380Z"
    },
    "collapsed": true
   },
   "outputs": [
    {
     "data": {
      "text/html": [
       "<div>\n",
       "<style scoped>\n",
       "    .dataframe tbody tr th:only-of-type {\n",
       "        vertical-align: middle;\n",
       "    }\n",
       "\n",
       "    .dataframe tbody tr th {\n",
       "        vertical-align: top;\n",
       "    }\n",
       "\n",
       "    .dataframe thead th {\n",
       "        text-align: right;\n",
       "    }\n",
       "</style>\n",
       "<table border=\"1\" class=\"dataframe\">\n",
       "  <thead>\n",
       "    <tr style=\"text-align: right;\">\n",
       "      <th></th>\n",
       "      <th>Variables_con1</th>\n",
       "      <th>Euclidean distance_1</th>\n",
       "      <th>Variables_con2</th>\n",
       "      <th>Euclidean distance_2</th>\n",
       "    </tr>\n",
       "  </thead>\n",
       "  <tbody>\n",
       "    <tr>\n",
       "      <th>0</th>\n",
       "      <td>M_SUI_CON_1</td>\n",
       "      <td>0.000000</td>\n",
       "      <td>M_SUI_CON_2</td>\n",
       "      <td>0.000000</td>\n",
       "    </tr>\n",
       "    <tr>\n",
       "      <th>1</th>\n",
       "      <td>SitTime_8</td>\n",
       "      <td>6.958497</td>\n",
       "      <td>F_SODA_6</td>\n",
       "      <td>8.450767</td>\n",
       "    </tr>\n",
       "    <tr>\n",
       "      <th>2</th>\n",
       "      <td>SitTime_7</td>\n",
       "      <td>7.465953</td>\n",
       "      <td>M_SAD_2</td>\n",
       "      <td>8.799477</td>\n",
       "    </tr>\n",
       "    <tr>\n",
       "      <th>3</th>\n",
       "      <td>BMI_4</td>\n",
       "      <td>7.782281</td>\n",
       "      <td>SitTime_6</td>\n",
       "      <td>9.127859</td>\n",
       "    </tr>\n",
       "    <tr>\n",
       "      <th>4</th>\n",
       "      <td>M_SAD_1</td>\n",
       "      <td>8.448430</td>\n",
       "      <td>F_SODA_5</td>\n",
       "      <td>9.483040</td>\n",
       "    </tr>\n",
       "    <tr>\n",
       "      <th>5</th>\n",
       "      <td>F_SODA_7</td>\n",
       "      <td>8.587315</td>\n",
       "      <td>SitTime_5</td>\n",
       "      <td>9.663481</td>\n",
       "    </tr>\n",
       "    <tr>\n",
       "      <th>6</th>\n",
       "      <td>BMI_3</td>\n",
       "      <td>9.232615</td>\n",
       "      <td>F_SODA_1</td>\n",
       "      <td>9.886292</td>\n",
       "    </tr>\n",
       "    <tr>\n",
       "      <th>7</th>\n",
       "      <td>F_SODA_4</td>\n",
       "      <td>9.580369</td>\n",
       "      <td>M_STR_1</td>\n",
       "      <td>9.974807</td>\n",
       "    </tr>\n",
       "    <tr>\n",
       "      <th>8</th>\n",
       "      <td>M_STR_5</td>\n",
       "      <td>9.656476</td>\n",
       "      <td>SitTime_4</td>\n",
       "      <td>9.982731</td>\n",
       "    </tr>\n",
       "    <tr>\n",
       "      <th>9</th>\n",
       "      <td>SitTime_0</td>\n",
       "      <td>9.665445</td>\n",
       "      <td>M_STR_2</td>\n",
       "      <td>10.044171</td>\n",
       "    </tr>\n",
       "    <tr>\n",
       "      <th>10</th>\n",
       "      <td>BMI_2</td>\n",
       "      <td>9.758172</td>\n",
       "      <td>PA_MSC_1</td>\n",
       "      <td>10.349203</td>\n",
       "    </tr>\n",
       "    <tr>\n",
       "      <th>11</th>\n",
       "      <td>BMI_1</td>\n",
       "      <td>9.853660</td>\n",
       "      <td>i_SB_BK_4</td>\n",
       "      <td>10.608274</td>\n",
       "    </tr>\n",
       "    <tr>\n",
       "      <th>12</th>\n",
       "      <td>SitTime_1</td>\n",
       "      <td>9.898577</td>\n",
       "      <td>PA_TOT_2</td>\n",
       "      <td>10.669684</td>\n",
       "    </tr>\n",
       "    <tr>\n",
       "      <th>13</th>\n",
       "      <td>F_SODA_3</td>\n",
       "      <td>9.931791</td>\n",
       "      <td>PA_TOT_3</td>\n",
       "      <td>10.681077</td>\n",
       "    </tr>\n",
       "    <tr>\n",
       "      <th>14</th>\n",
       "      <td>PA_MSC_2</td>\n",
       "      <td>9.998074</td>\n",
       "      <td>I_SB_EX_1</td>\n",
       "      <td>10.789421</td>\n",
       "    </tr>\n",
       "    <tr>\n",
       "      <th>15</th>\n",
       "      <td>PA_MSC_3</td>\n",
       "      <td>10.060420</td>\n",
       "      <td>I_SB_FR_1</td>\n",
       "      <td>11.038992</td>\n",
       "    </tr>\n",
       "    <tr>\n",
       "      <th>16</th>\n",
       "      <td>SitTime_3</td>\n",
       "      <td>10.068703</td>\n",
       "      <td>PA_TOT_1</td>\n",
       "      <td>11.056298</td>\n",
       "    </tr>\n",
       "    <tr>\n",
       "      <th>17</th>\n",
       "      <td>PA_MSC_4</td>\n",
       "      <td>10.099169</td>\n",
       "      <td>I_SB_FR_4</td>\n",
       "      <td>11.180865</td>\n",
       "    </tr>\n",
       "    <tr>\n",
       "      <th>18</th>\n",
       "      <td>SitTime_2</td>\n",
       "      <td>10.109184</td>\n",
       "      <td>I_SB_FR_5</td>\n",
       "      <td>12.364584</td>\n",
       "    </tr>\n",
       "    <tr>\n",
       "      <th>19</th>\n",
       "      <td>M_STR_4</td>\n",
       "      <td>10.121677</td>\n",
       "      <td>i_SB_BK_1</td>\n",
       "      <td>12.925412</td>\n",
       "    </tr>\n",
       "    <tr>\n",
       "      <th>20</th>\n",
       "      <td>I_SB_EX_3</td>\n",
       "      <td>10.155179</td>\n",
       "      <td>NaN</td>\n",
       "      <td>NaN</td>\n",
       "    </tr>\n",
       "    <tr>\n",
       "      <th>21</th>\n",
       "      <td>PA_MSC_5</td>\n",
       "      <td>10.256713</td>\n",
       "      <td>NaN</td>\n",
       "      <td>NaN</td>\n",
       "    </tr>\n",
       "    <tr>\n",
       "      <th>22</th>\n",
       "      <td>F_SODA_2</td>\n",
       "      <td>10.268821</td>\n",
       "      <td>NaN</td>\n",
       "      <td>NaN</td>\n",
       "    </tr>\n",
       "    <tr>\n",
       "      <th>23</th>\n",
       "      <td>I_SB_EX_4</td>\n",
       "      <td>10.340232</td>\n",
       "      <td>NaN</td>\n",
       "      <td>NaN</td>\n",
       "    </tr>\n",
       "    <tr>\n",
       "      <th>24</th>\n",
       "      <td>M_STR_3</td>\n",
       "      <td>10.618245</td>\n",
       "      <td>NaN</td>\n",
       "      <td>NaN</td>\n",
       "    </tr>\n",
       "    <tr>\n",
       "      <th>25</th>\n",
       "      <td>I_SB_EX_2</td>\n",
       "      <td>10.618495</td>\n",
       "      <td>NaN</td>\n",
       "      <td>NaN</td>\n",
       "    </tr>\n",
       "    <tr>\n",
       "      <th>26</th>\n",
       "      <td>PA_TOT_7</td>\n",
       "      <td>10.646914</td>\n",
       "      <td>NaN</td>\n",
       "      <td>NaN</td>\n",
       "    </tr>\n",
       "    <tr>\n",
       "      <th>27</th>\n",
       "      <td>I_SB_FR_2</td>\n",
       "      <td>10.666775</td>\n",
       "      <td>NaN</td>\n",
       "      <td>NaN</td>\n",
       "    </tr>\n",
       "    <tr>\n",
       "      <th>28</th>\n",
       "      <td>I_SB_FR_3</td>\n",
       "      <td>10.668558</td>\n",
       "      <td>NaN</td>\n",
       "      <td>NaN</td>\n",
       "    </tr>\n",
       "    <tr>\n",
       "      <th>29</th>\n",
       "      <td>i_SB_BK_3</td>\n",
       "      <td>10.683960</td>\n",
       "      <td>NaN</td>\n",
       "      <td>NaN</td>\n",
       "    </tr>\n",
       "    <tr>\n",
       "      <th>30</th>\n",
       "      <td>I_SB_EX_5</td>\n",
       "      <td>10.766704</td>\n",
       "      <td>NaN</td>\n",
       "      <td>NaN</td>\n",
       "    </tr>\n",
       "    <tr>\n",
       "      <th>31</th>\n",
       "      <td>PA_TOT_4</td>\n",
       "      <td>10.766891</td>\n",
       "      <td>NaN</td>\n",
       "      <td>NaN</td>\n",
       "    </tr>\n",
       "    <tr>\n",
       "      <th>32</th>\n",
       "      <td>PA_TOT_5</td>\n",
       "      <td>10.788994</td>\n",
       "      <td>NaN</td>\n",
       "      <td>NaN</td>\n",
       "    </tr>\n",
       "    <tr>\n",
       "      <th>33</th>\n",
       "      <td>PA_MSC_6</td>\n",
       "      <td>10.845013</td>\n",
       "      <td>NaN</td>\n",
       "      <td>NaN</td>\n",
       "    </tr>\n",
       "    <tr>\n",
       "      <th>34</th>\n",
       "      <td>PA_TOT_6</td>\n",
       "      <td>10.871986</td>\n",
       "      <td>NaN</td>\n",
       "      <td>NaN</td>\n",
       "    </tr>\n",
       "    <tr>\n",
       "      <th>35</th>\n",
       "      <td>i_SB_BK_5</td>\n",
       "      <td>10.959687</td>\n",
       "      <td>NaN</td>\n",
       "      <td>NaN</td>\n",
       "    </tr>\n",
       "    <tr>\n",
       "      <th>36</th>\n",
       "      <td>i_SB_BK_2</td>\n",
       "      <td>11.386406</td>\n",
       "      <td>NaN</td>\n",
       "      <td>NaN</td>\n",
       "    </tr>\n",
       "    <tr>\n",
       "      <th>37</th>\n",
       "      <td>PA_TOT_8</td>\n",
       "      <td>11.489991</td>\n",
       "      <td>NaN</td>\n",
       "      <td>NaN</td>\n",
       "    </tr>\n",
       "  </tbody>\n",
       "</table>\n",
       "</div>"
      ],
      "text/plain": [
       "   Variables_con1  Euclidean distance_1 Variables_con2  Euclidean distance_2\n",
       "0     M_SUI_CON_1              0.000000    M_SUI_CON_2              0.000000\n",
       "1       SitTime_8              6.958497       F_SODA_6              8.450767\n",
       "2       SitTime_7              7.465953        M_SAD_2              8.799477\n",
       "3           BMI_4              7.782281      SitTime_6              9.127859\n",
       "4         M_SAD_1              8.448430       F_SODA_5              9.483040\n",
       "5        F_SODA_7              8.587315      SitTime_5              9.663481\n",
       "6           BMI_3              9.232615       F_SODA_1              9.886292\n",
       "7        F_SODA_4              9.580369        M_STR_1              9.974807\n",
       "8         M_STR_5              9.656476      SitTime_4              9.982731\n",
       "9       SitTime_0              9.665445        M_STR_2             10.044171\n",
       "10          BMI_2              9.758172       PA_MSC_1             10.349203\n",
       "11          BMI_1              9.853660      i_SB_BK_4             10.608274\n",
       "12      SitTime_1              9.898577       PA_TOT_2             10.669684\n",
       "13       F_SODA_3              9.931791       PA_TOT_3             10.681077\n",
       "14       PA_MSC_2              9.998074      I_SB_EX_1             10.789421\n",
       "15       PA_MSC_3             10.060420      I_SB_FR_1             11.038992\n",
       "16      SitTime_3             10.068703       PA_TOT_1             11.056298\n",
       "17       PA_MSC_4             10.099169      I_SB_FR_4             11.180865\n",
       "18      SitTime_2             10.109184      I_SB_FR_5             12.364584\n",
       "19        M_STR_4             10.121677      i_SB_BK_1             12.925412\n",
       "20      I_SB_EX_3             10.155179            NaN                   NaN\n",
       "21       PA_MSC_5             10.256713            NaN                   NaN\n",
       "22       F_SODA_2             10.268821            NaN                   NaN\n",
       "23      I_SB_EX_4             10.340232            NaN                   NaN\n",
       "24        M_STR_3             10.618245            NaN                   NaN\n",
       "25      I_SB_EX_2             10.618495            NaN                   NaN\n",
       "26       PA_TOT_7             10.646914            NaN                   NaN\n",
       "27      I_SB_FR_2             10.666775            NaN                   NaN\n",
       "28      I_SB_FR_3             10.668558            NaN                   NaN\n",
       "29      i_SB_BK_3             10.683960            NaN                   NaN\n",
       "30      I_SB_EX_5             10.766704            NaN                   NaN\n",
       "31       PA_TOT_4             10.766891            NaN                   NaN\n",
       "32       PA_TOT_5             10.788994            NaN                   NaN\n",
       "33       PA_MSC_6             10.845013            NaN                   NaN\n",
       "34       PA_TOT_6             10.871986            NaN                   NaN\n",
       "35      i_SB_BK_5             10.959687            NaN                   NaN\n",
       "36      i_SB_BK_2             11.386406            NaN                   NaN\n",
       "37       PA_TOT_8             11.489991            NaN                   NaN"
      ]
     },
     "execution_count": 24,
     "metadata": {},
     "output_type": "execute_result"
    }
   ],
   "source": [
    "con"
   ]
  },
  {
   "cell_type": "code",
   "execution_count": 25,
   "metadata": {
    "ExecuteTime": {
     "end_time": "2021-02-05T16:53:23.847682Z",
     "start_time": "2021-02-05T16:53:23.823666Z"
    }
   },
   "outputs": [],
   "source": [
    "con.to_csv('means_clustering_cbow.csv')"
   ]
  }
 ],
 "metadata": {
  "hide_input": false,
  "kernelspec": {
   "display_name": "Python 3",
   "language": "python",
   "name": "python3"
  },
  "language_info": {
   "codemirror_mode": {
    "name": "ipython",
    "version": 3
   },
   "file_extension": ".py",
   "mimetype": "text/x-python",
   "name": "python",
   "nbconvert_exporter": "python",
   "pygments_lexer": "ipython3",
   "version": "3.7.9"
  },
  "toc": {
   "base_numbering": 1,
   "nav_menu": {},
   "number_sections": true,
   "sideBar": true,
   "skip_h1_title": false,
   "title_cell": "Table of Contents",
   "title_sidebar": "Contents",
   "toc_cell": false,
   "toc_position": {},
   "toc_section_display": true,
   "toc_window_display": false
  },
  "varInspector": {
   "cols": {
    "lenName": 16,
    "lenType": 16,
    "lenVar": 40
   },
   "kernels_config": {
    "python": {
     "delete_cmd_postfix": "",
     "delete_cmd_prefix": "del ",
     "library": "var_list.py",
     "varRefreshCmd": "print(var_dic_list())"
    },
    "r": {
     "delete_cmd_postfix": ") ",
     "delete_cmd_prefix": "rm(",
     "library": "var_list.r",
     "varRefreshCmd": "cat(var_dic_list()) "
    }
   },
   "types_to_exclude": [
    "module",
    "function",
    "builtin_function_or_method",
    "instance",
    "_Feature"
   ],
   "window_display": false
  }
 },
 "nbformat": 4,
 "nbformat_minor": 4
}
