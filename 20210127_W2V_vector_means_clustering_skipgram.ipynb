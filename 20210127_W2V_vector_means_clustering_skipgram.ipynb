{
 "cells": [
  {
   "cell_type": "code",
   "execution_count": 1,
   "metadata": {
    "ExecuteTime": {
     "end_time": "2021-02-03T13:01:58.151154Z",
     "start_time": "2021-02-03T13:01:50.534544Z"
    }
   },
   "outputs": [],
   "source": [
    "import csv\n",
    "from gensim.models.word2vec import Word2Vec\n",
    "import pandas as pd\n",
    "import numpy as np\n",
    "from keras.utils import np_utils\n",
    "from keras.preprocessing.text import Tokenizer\n"
   ]
  },
  {
   "cell_type": "code",
   "execution_count": 2,
   "metadata": {
    "ExecuteTime": {
     "end_time": "2021-02-03T13:01:58.199170Z",
     "start_time": "2021-02-03T13:01:58.184168Z"
    }
   },
   "outputs": [],
   "source": [
    "from collections import Counter"
   ]
  },
  {
   "cell_type": "markdown",
   "metadata": {},
   "source": [
    "# train은 업샘플링 한거, test은 안한 채로 만든 데이터 셋 불러옴"
   ]
  },
  {
   "cell_type": "code",
   "execution_count": 3,
   "metadata": {
    "ExecuteTime": {
     "end_time": "2021-02-03T13:01:58.374780Z",
     "start_time": "2021-02-03T13:01:58.232181Z"
    }
   },
   "outputs": [],
   "source": [
    "pre_train = pd.read_csv('good_pretrain.csv')\n",
    "pre_test = pd.read_csv('final_test.csv')"
   ]
  },
  {
   "cell_type": "code",
   "execution_count": 4,
   "metadata": {
    "ExecuteTime": {
     "end_time": "2021-02-03T13:01:58.470786Z",
     "start_time": "2021-02-03T13:01:58.439780Z"
    },
    "scrolled": false
   },
   "outputs": [
    {
     "data": {
      "text/html": [
       "<div>\n",
       "<style scoped>\n",
       "    .dataframe tbody tr th:only-of-type {\n",
       "        vertical-align: middle;\n",
       "    }\n",
       "\n",
       "    .dataframe tbody tr th {\n",
       "        vertical-align: top;\n",
       "    }\n",
       "\n",
       "    .dataframe thead th {\n",
       "        text-align: right;\n",
       "    }\n",
       "</style>\n",
       "<table border=\"1\" class=\"dataframe\">\n",
       "  <thead>\n",
       "    <tr style=\"text-align: right;\">\n",
       "      <th></th>\n",
       "      <th>Unnamed: 0</th>\n",
       "      <th>M_SAD</th>\n",
       "      <th>SitTime</th>\n",
       "      <th>PA_TOT</th>\n",
       "      <th>I_SB_EX</th>\n",
       "      <th>I_SB_FR</th>\n",
       "      <th>M_SUI_CON</th>\n",
       "      <th>i_SB_BK</th>\n",
       "      <th>BMI</th>\n",
       "      <th>M_STR</th>\n",
       "      <th>F_SODA</th>\n",
       "      <th>PA_MSC</th>\n",
       "    </tr>\n",
       "  </thead>\n",
       "  <tbody>\n",
       "    <tr>\n",
       "      <th>0</th>\n",
       "      <td>0</td>\n",
       "      <td>M_SAD_2</td>\n",
       "      <td>SitTime_3</td>\n",
       "      <td>PA_TOT_5</td>\n",
       "      <td>I_SB_EX_5</td>\n",
       "      <td>I_SB_FR_2</td>\n",
       "      <td>M_SUI_CON_2</td>\n",
       "      <td>i_SB_BK_4</td>\n",
       "      <td>BMI_1</td>\n",
       "      <td>M_STR_1</td>\n",
       "      <td>F_SODA_4</td>\n",
       "      <td>PA_MSC_4</td>\n",
       "    </tr>\n",
       "    <tr>\n",
       "      <th>1</th>\n",
       "      <td>1</td>\n",
       "      <td>M_SAD_1</td>\n",
       "      <td>SitTime_0</td>\n",
       "      <td>PA_TOT_4</td>\n",
       "      <td>I_SB_EX_2</td>\n",
       "      <td>I_SB_FR_2</td>\n",
       "      <td>M_SUI_CON_1</td>\n",
       "      <td>i_SB_BK_2</td>\n",
       "      <td>BMI_1</td>\n",
       "      <td>M_STR_4</td>\n",
       "      <td>F_SODA_2</td>\n",
       "      <td>PA_MSC_6</td>\n",
       "    </tr>\n",
       "    <tr>\n",
       "      <th>2</th>\n",
       "      <td>2</td>\n",
       "      <td>M_SAD_1</td>\n",
       "      <td>SitTime_3</td>\n",
       "      <td>PA_TOT_2</td>\n",
       "      <td>I_SB_EX_5</td>\n",
       "      <td>I_SB_FR_5</td>\n",
       "      <td>M_SUI_CON_1</td>\n",
       "      <td>i_SB_BK_5</td>\n",
       "      <td>BMI_2</td>\n",
       "      <td>M_STR_3</td>\n",
       "      <td>F_SODA_1</td>\n",
       "      <td>PA_MSC_1</td>\n",
       "    </tr>\n",
       "    <tr>\n",
       "      <th>3</th>\n",
       "      <td>3</td>\n",
       "      <td>M_SAD_1</td>\n",
       "      <td>SitTime_0</td>\n",
       "      <td>PA_TOT_1</td>\n",
       "      <td>I_SB_EX_1</td>\n",
       "      <td>I_SB_FR_1</td>\n",
       "      <td>M_SUI_CON_1</td>\n",
       "      <td>i_SB_BK_1</td>\n",
       "      <td>BMI_1</td>\n",
       "      <td>M_STR_3</td>\n",
       "      <td>F_SODA_1</td>\n",
       "      <td>PA_MSC_1</td>\n",
       "    </tr>\n",
       "    <tr>\n",
       "      <th>4</th>\n",
       "      <td>4</td>\n",
       "      <td>M_SAD_1</td>\n",
       "      <td>SitTime_1</td>\n",
       "      <td>PA_TOT_1</td>\n",
       "      <td>I_SB_EX_2</td>\n",
       "      <td>I_SB_FR_2</td>\n",
       "      <td>M_SUI_CON_1</td>\n",
       "      <td>i_SB_BK_2</td>\n",
       "      <td>BMI_1</td>\n",
       "      <td>M_STR_4</td>\n",
       "      <td>F_SODA_3</td>\n",
       "      <td>PA_MSC_1</td>\n",
       "    </tr>\n",
       "    <tr>\n",
       "      <th>...</th>\n",
       "      <td>...</td>\n",
       "      <td>...</td>\n",
       "      <td>...</td>\n",
       "      <td>...</td>\n",
       "      <td>...</td>\n",
       "      <td>...</td>\n",
       "      <td>...</td>\n",
       "      <td>...</td>\n",
       "      <td>...</td>\n",
       "      <td>...</td>\n",
       "      <td>...</td>\n",
       "      <td>...</td>\n",
       "    </tr>\n",
       "    <tr>\n",
       "      <th>59347</th>\n",
       "      <td>59347</td>\n",
       "      <td>M_SAD_2</td>\n",
       "      <td>SitTime_2</td>\n",
       "      <td>PA_TOT_2</td>\n",
       "      <td>I_SB_EX_2</td>\n",
       "      <td>I_SB_FR_2</td>\n",
       "      <td>M_SUI_CON_1</td>\n",
       "      <td>i_SB_BK_2</td>\n",
       "      <td>BMI_2</td>\n",
       "      <td>M_STR_2</td>\n",
       "      <td>F_SODA_3</td>\n",
       "      <td>PA_MSC_3</td>\n",
       "    </tr>\n",
       "    <tr>\n",
       "      <th>59348</th>\n",
       "      <td>59348</td>\n",
       "      <td>M_SAD_1</td>\n",
       "      <td>SitTime_4</td>\n",
       "      <td>PA_TOT_1</td>\n",
       "      <td>I_SB_EX_5</td>\n",
       "      <td>I_SB_FR_5</td>\n",
       "      <td>M_SUI_CON_1</td>\n",
       "      <td>i_SB_BK_5</td>\n",
       "      <td>BMI_1</td>\n",
       "      <td>M_STR_4</td>\n",
       "      <td>F_SODA_1</td>\n",
       "      <td>PA_MSC_1</td>\n",
       "    </tr>\n",
       "    <tr>\n",
       "      <th>59349</th>\n",
       "      <td>59349</td>\n",
       "      <td>M_SAD_2</td>\n",
       "      <td>SitTime_0</td>\n",
       "      <td>PA_TOT_1</td>\n",
       "      <td>I_SB_EX_2</td>\n",
       "      <td>I_SB_FR_2</td>\n",
       "      <td>M_SUI_CON_2</td>\n",
       "      <td>i_SB_BK_4</td>\n",
       "      <td>BMI_2</td>\n",
       "      <td>M_STR_2</td>\n",
       "      <td>F_SODA_2</td>\n",
       "      <td>PA_MSC_3</td>\n",
       "    </tr>\n",
       "    <tr>\n",
       "      <th>59350</th>\n",
       "      <td>59350</td>\n",
       "      <td>M_SAD_1</td>\n",
       "      <td>SitTime_1</td>\n",
       "      <td>PA_TOT_1</td>\n",
       "      <td>I_SB_EX_2</td>\n",
       "      <td>I_SB_FR_2</td>\n",
       "      <td>M_SUI_CON_2</td>\n",
       "      <td>i_SB_BK_2</td>\n",
       "      <td>BMI_1</td>\n",
       "      <td>M_STR_3</td>\n",
       "      <td>F_SODA_5</td>\n",
       "      <td>PA_MSC_6</td>\n",
       "    </tr>\n",
       "    <tr>\n",
       "      <th>59351</th>\n",
       "      <td>59351</td>\n",
       "      <td>M_SAD_1</td>\n",
       "      <td>SitTime_5</td>\n",
       "      <td>PA_TOT_1</td>\n",
       "      <td>I_SB_EX_4</td>\n",
       "      <td>I_SB_FR_2</td>\n",
       "      <td>M_SUI_CON_1</td>\n",
       "      <td>i_SB_BK_3</td>\n",
       "      <td>BMI_2</td>\n",
       "      <td>M_STR_3</td>\n",
       "      <td>F_SODA_3</td>\n",
       "      <td>PA_MSC_1</td>\n",
       "    </tr>\n",
       "  </tbody>\n",
       "</table>\n",
       "<p>59352 rows × 12 columns</p>\n",
       "</div>"
      ],
      "text/plain": [
       "       Unnamed: 0    M_SAD    SitTime    PA_TOT    I_SB_EX    I_SB_FR  \\\n",
       "0               0  M_SAD_2  SitTime_3  PA_TOT_5  I_SB_EX_5  I_SB_FR_2   \n",
       "1               1  M_SAD_1  SitTime_0  PA_TOT_4  I_SB_EX_2  I_SB_FR_2   \n",
       "2               2  M_SAD_1  SitTime_3  PA_TOT_2  I_SB_EX_5  I_SB_FR_5   \n",
       "3               3  M_SAD_1  SitTime_0  PA_TOT_1  I_SB_EX_1  I_SB_FR_1   \n",
       "4               4  M_SAD_1  SitTime_1  PA_TOT_1  I_SB_EX_2  I_SB_FR_2   \n",
       "...           ...      ...        ...       ...        ...        ...   \n",
       "59347       59347  M_SAD_2  SitTime_2  PA_TOT_2  I_SB_EX_2  I_SB_FR_2   \n",
       "59348       59348  M_SAD_1  SitTime_4  PA_TOT_1  I_SB_EX_5  I_SB_FR_5   \n",
       "59349       59349  M_SAD_2  SitTime_0  PA_TOT_1  I_SB_EX_2  I_SB_FR_2   \n",
       "59350       59350  M_SAD_1  SitTime_1  PA_TOT_1  I_SB_EX_2  I_SB_FR_2   \n",
       "59351       59351  M_SAD_1  SitTime_5  PA_TOT_1  I_SB_EX_4  I_SB_FR_2   \n",
       "\n",
       "         M_SUI_CON    i_SB_BK    BMI    M_STR    F_SODA    PA_MSC  \n",
       "0      M_SUI_CON_2  i_SB_BK_4  BMI_1  M_STR_1  F_SODA_4  PA_MSC_4  \n",
       "1      M_SUI_CON_1  i_SB_BK_2  BMI_1  M_STR_4  F_SODA_2  PA_MSC_6  \n",
       "2      M_SUI_CON_1  i_SB_BK_5  BMI_2  M_STR_3  F_SODA_1  PA_MSC_1  \n",
       "3      M_SUI_CON_1  i_SB_BK_1  BMI_1  M_STR_3  F_SODA_1  PA_MSC_1  \n",
       "4      M_SUI_CON_1  i_SB_BK_2  BMI_1  M_STR_4  F_SODA_3  PA_MSC_1  \n",
       "...            ...        ...    ...      ...       ...       ...  \n",
       "59347  M_SUI_CON_1  i_SB_BK_2  BMI_2  M_STR_2  F_SODA_3  PA_MSC_3  \n",
       "59348  M_SUI_CON_1  i_SB_BK_5  BMI_1  M_STR_4  F_SODA_1  PA_MSC_1  \n",
       "59349  M_SUI_CON_2  i_SB_BK_4  BMI_2  M_STR_2  F_SODA_2  PA_MSC_3  \n",
       "59350  M_SUI_CON_2  i_SB_BK_2  BMI_1  M_STR_3  F_SODA_5  PA_MSC_6  \n",
       "59351  M_SUI_CON_1  i_SB_BK_3  BMI_2  M_STR_3  F_SODA_3  PA_MSC_1  \n",
       "\n",
       "[59352 rows x 12 columns]"
      ]
     },
     "execution_count": 4,
     "metadata": {},
     "output_type": "execute_result"
    }
   ],
   "source": [
    "pre_train"
   ]
  },
  {
   "cell_type": "code",
   "execution_count": 5,
   "metadata": {
    "ExecuteTime": {
     "end_time": "2021-02-03T13:02:06.886274Z",
     "start_time": "2021-02-03T13:02:06.864247Z"
    }
   },
   "outputs": [],
   "source": [
    "pre_train = pre_train.drop(columns = ['Unnamed: 0'])\n",
    "pre_test = pre_test.drop(columns = ['Unnamed: 0'])"
   ]
  },
  {
   "cell_type": "markdown",
   "metadata": {},
   "source": [
    "# cbow모델에 넣기 좋게 리스트 형식으로 변환"
   ]
  },
  {
   "cell_type": "code",
   "execution_count": 6,
   "metadata": {
    "ExecuteTime": {
     "end_time": "2021-02-03T13:02:09.540801Z",
     "start_time": "2021-02-03T13:02:09.448458Z"
    }
   },
   "outputs": [],
   "source": [
    "train_list = pre_train.values.tolist()\n",
    "test_list = pre_test.values.tolist()"
   ]
  },
  {
   "cell_type": "code",
   "execution_count": 7,
   "metadata": {
    "ExecuteTime": {
     "end_time": "2021-02-03T13:02:12.186956Z",
     "start_time": "2021-02-03T13:02:12.170953Z"
    }
   },
   "outputs": [
    {
     "data": {
      "text/plain": [
       "59352"
      ]
     },
     "execution_count": 7,
     "metadata": {},
     "output_type": "execute_result"
    }
   ],
   "source": [
    "len(train_list)"
   ]
  },
  {
   "cell_type": "markdown",
   "metadata": {},
   "source": [
    "<b> Tokenizing"
   ]
  },
  {
   "cell_type": "code",
   "execution_count": 8,
   "metadata": {
    "ExecuteTime": {
     "end_time": "2021-02-03T13:02:18.309428Z",
     "start_time": "2021-02-03T13:02:18.300425Z"
    }
   },
   "outputs": [],
   "source": [
    "def tokenize(corpus):\n",
    "    \"\"\"\n",
    "    Tokenize the corpus of text.\n",
    "    :param corpus: list containing a string of text (example: [\"I like playing football with my friends\"])\n",
    "    :return corpus_tokenized: indexed list of words in the corpus, in the same order as the original corpus (the example above would return [[1, 2, 3, 4]])\n",
    "    :return V: size of vocabulary\n",
    "    \"\"\"\n",
    "    tokenizer = Tokenizer()\n",
    "    tokenizer.fit_on_texts(corpus)\n",
    "    corpus_tokenized = tokenizer.texts_to_sequences(corpus)\n",
    "    V = len(tokenizer.word_index)\n",
    "    return corpus_tokenized, V"
   ]
  },
  {
   "cell_type": "code",
   "execution_count": 9,
   "metadata": {
    "ExecuteTime": {
     "end_time": "2021-02-03T13:02:20.578952Z",
     "start_time": "2021-02-03T13:02:19.972815Z"
    }
   },
   "outputs": [
    {
     "data": {
      "text/plain": [
       "58"
      ]
     },
     "execution_count": 9,
     "metadata": {},
     "output_type": "execute_result"
    }
   ],
   "source": [
    "cor, V = tokenize(train_list)\n",
    "V"
   ]
  },
  {
   "cell_type": "code",
   "execution_count": 10,
   "metadata": {
    "ExecuteTime": {
     "end_time": "2021-02-03T13:02:21.089077Z",
     "start_time": "2021-02-03T13:02:20.931041Z"
    }
   },
   "outputs": [
    {
     "data": {
      "text/plain": [
       "58"
      ]
     },
     "execution_count": 10,
     "metadata": {},
     "output_type": "execute_result"
    }
   ],
   "source": [
    "cor_te, V_te = tokenize(test_list)\n",
    "V_te"
   ]
  },
  {
   "cell_type": "markdown",
   "metadata": {},
   "source": [
    "# 모델 훈련 sg = 1이라 지금은 skip gram"
   ]
  },
  {
   "cell_type": "code",
   "execution_count": 11,
   "metadata": {
    "ExecuteTime": {
     "end_time": "2021-02-03T13:02:41.816561Z",
     "start_time": "2021-02-03T13:02:40.640283Z"
    }
   },
   "outputs": [],
   "source": [
    "model_cbow = Word2Vec(train_list, workers = 6, size = 150 , min_count = 1, window = 11, sg = 1)"
   ]
  },
  {
   "cell_type": "markdown",
   "metadata": {},
   "source": [
    "## Vocab들 모으기 (test data)"
   ]
  },
  {
   "cell_type": "code",
   "execution_count": 12,
   "metadata": {
    "ExecuteTime": {
     "end_time": "2021-02-03T13:02:43.150046Z",
     "start_time": "2021-02-03T13:02:43.119304Z"
    }
   },
   "outputs": [],
   "source": [
    "#create Vocab dict\n",
    "cols = []\n",
    "for temp in pre_test.columns:\n",
    "    target = pre_test[temp].unique()\n",
    "    for tesla in target:\n",
    "        cols.append(tesla)"
   ]
  },
  {
   "cell_type": "code",
   "execution_count": 13,
   "metadata": {
    "ExecuteTime": {
     "end_time": "2021-02-03T13:02:44.317292Z",
     "start_time": "2021-02-03T13:02:44.300289Z"
    },
    "scrolled": true
   },
   "outputs": [
    {
     "data": {
      "text/plain": [
       "58"
      ]
     },
     "execution_count": 13,
     "metadata": {},
     "output_type": "execute_result"
    }
   ],
   "source": [
    "len(cols)"
   ]
  },
  {
   "cell_type": "markdown",
   "metadata": {},
   "source": [
    "## Vocab 들을 각각 M_SUI_CON_1, M_SUI_CON_2와 유클리디안 거리를 구해. "
   ]
  },
  {
   "cell_type": "markdown",
   "metadata": {},
   "source": [
    "센트로이드는 M_SUI_CON_1, M_SUI_CON_2\n",
    "Vocab들을 전부 센트로이드들이랑 유클리디안 거리를 구하고, 둘 중 가까운 쪽에다가 할당"
   ]
  },
  {
   "cell_type": "code",
   "execution_count": 45,
   "metadata": {
    "ExecuteTime": {
     "end_time": "2021-02-03T13:18:27.356769Z",
     "start_time": "2021-02-03T13:18:27.350767Z"
    }
   },
   "outputs": [],
   "source": [
    "def vec_means(cols, model):\n",
    "    c1 = model.wv['M_SUI_CON_1']\n",
    "    c2 = model.wv['M_SUI_CON_2']\n",
    "    c1_cluster = []\n",
    "    c2_cluster = []\n",
    "    for col in cols:\n",
    "        temp = []\n",
    "        if np.linalg.norm(c1 - model.wv[col]) > np.linalg.norm(c2 - model.wv[col]): #거리가 더 짧은 센트로이드에 할당이므로\n",
    "            temp.append(col)\n",
    "            temp.append(np.linalg.norm(c2 - model.wv[col]))\n",
    "            c2_cluster.append(temp)\n",
    "        else:\n",
    "            temp.append(col)\n",
    "            temp.append(np.linalg.norm(c1 - model.wv[col]))\n",
    "            c1_cluster.append(temp)\n",
    "            \n",
    "    return c1_cluster, c2_cluster\n",
    "    "
   ]
  },
  {
   "cell_type": "code",
   "execution_count": 46,
   "metadata": {
    "ExecuteTime": {
     "end_time": "2021-02-03T13:18:28.601350Z",
     "start_time": "2021-02-03T13:18:28.597357Z"
    }
   },
   "outputs": [],
   "source": [
    "c1_c , c2_c = vec_means(cols, model_cbow)"
   ]
  },
  {
   "cell_type": "code",
   "execution_count": 47,
   "metadata": {
    "ExecuteTime": {
     "end_time": "2021-02-03T13:18:29.534158Z",
     "start_time": "2021-02-03T13:18:29.520801Z"
    }
   },
   "outputs": [],
   "source": [
    "c1_c = pd.DataFrame(c1_c)\n",
    "c2_c = pd.DataFrame(c2_c)"
   ]
  },
  {
   "cell_type": "code",
   "execution_count": 48,
   "metadata": {
    "ExecuteTime": {
     "end_time": "2021-02-03T13:18:30.793209Z",
     "start_time": "2021-02-03T13:18:30.789208Z"
    }
   },
   "outputs": [],
   "source": [
    "c1_c.columns = ['Variables', 'Euclidean distance']\n",
    "c2_c.columns = ['Variables', 'Euclidean distance']"
   ]
  },
  {
   "cell_type": "code",
   "execution_count": 50,
   "metadata": {
    "ExecuteTime": {
     "end_time": "2021-02-03T13:18:41.986556Z",
     "start_time": "2021-02-03T13:18:41.979555Z"
    }
   },
   "outputs": [],
   "source": [
    "c1_c = c1_c.sort_values(by = 'Euclidean distance')\n",
    "c2_c = c2_c.sort_values(by = 'Euclidean distance')"
   ]
  },
  {
   "cell_type": "code",
   "execution_count": 51,
   "metadata": {
    "ExecuteTime": {
     "end_time": "2021-02-03T13:18:43.971362Z",
     "start_time": "2021-02-03T13:18:43.957357Z"
    },
    "collapsed": true
   },
   "outputs": [
    {
     "data": {
      "text/html": [
       "<div>\n",
       "<style scoped>\n",
       "    .dataframe tbody tr th:only-of-type {\n",
       "        vertical-align: middle;\n",
       "    }\n",
       "\n",
       "    .dataframe tbody tr th {\n",
       "        vertical-align: top;\n",
       "    }\n",
       "\n",
       "    .dataframe thead th {\n",
       "        text-align: right;\n",
       "    }\n",
       "</style>\n",
       "<table border=\"1\" class=\"dataframe\">\n",
       "  <thead>\n",
       "    <tr style=\"text-align: right;\">\n",
       "      <th></th>\n",
       "      <th>Variables</th>\n",
       "      <th>Euclidean distance</th>\n",
       "    </tr>\n",
       "  </thead>\n",
       "  <tbody>\n",
       "    <tr>\n",
       "      <th>27</th>\n",
       "      <td>M_SUI_CON_1</td>\n",
       "      <td>0.000000</td>\n",
       "    </tr>\n",
       "    <tr>\n",
       "      <th>8</th>\n",
       "      <td>SitTime_8</td>\n",
       "      <td>2.140951</td>\n",
       "    </tr>\n",
       "    <tr>\n",
       "      <th>7</th>\n",
       "      <td>SitTime_7</td>\n",
       "      <td>2.483193</td>\n",
       "    </tr>\n",
       "    <tr>\n",
       "      <th>0</th>\n",
       "      <td>M_SAD_1</td>\n",
       "      <td>2.650477</td>\n",
       "    </tr>\n",
       "    <tr>\n",
       "      <th>35</th>\n",
       "      <td>BMI_4</td>\n",
       "      <td>2.691479</td>\n",
       "    </tr>\n",
       "    <tr>\n",
       "      <th>45</th>\n",
       "      <td>PA_MSC_3</td>\n",
       "      <td>2.764385</td>\n",
       "    </tr>\n",
       "    <tr>\n",
       "      <th>46</th>\n",
       "      <td>PA_MSC_2</td>\n",
       "      <td>2.778974</td>\n",
       "    </tr>\n",
       "    <tr>\n",
       "      <th>44</th>\n",
       "      <td>F_SODA_4</td>\n",
       "      <td>2.808443</td>\n",
       "    </tr>\n",
       "    <tr>\n",
       "      <th>37</th>\n",
       "      <td>M_STR_4</td>\n",
       "      <td>2.820658</td>\n",
       "    </tr>\n",
       "    <tr>\n",
       "      <th>3</th>\n",
       "      <td>SitTime_1</td>\n",
       "      <td>2.824462</td>\n",
       "    </tr>\n",
       "    <tr>\n",
       "      <th>32</th>\n",
       "      <td>BMI_3</td>\n",
       "      <td>2.840194</td>\n",
       "    </tr>\n",
       "    <tr>\n",
       "      <th>2</th>\n",
       "      <td>SitTime_2</td>\n",
       "      <td>2.843386</td>\n",
       "    </tr>\n",
       "    <tr>\n",
       "      <th>39</th>\n",
       "      <td>F_SODA_2</td>\n",
       "      <td>2.844198</td>\n",
       "    </tr>\n",
       "    <tr>\n",
       "      <th>36</th>\n",
       "      <td>M_STR_3</td>\n",
       "      <td>2.849004</td>\n",
       "    </tr>\n",
       "    <tr>\n",
       "      <th>6</th>\n",
       "      <td>SitTime_6</td>\n",
       "      <td>2.856710</td>\n",
       "    </tr>\n",
       "    <tr>\n",
       "      <th>34</th>\n",
       "      <td>BMI_1</td>\n",
       "      <td>2.863734</td>\n",
       "    </tr>\n",
       "    <tr>\n",
       "      <th>47</th>\n",
       "      <td>PA_MSC_4</td>\n",
       "      <td>2.866622</td>\n",
       "    </tr>\n",
       "    <tr>\n",
       "      <th>38</th>\n",
       "      <td>M_STR_5</td>\n",
       "      <td>2.873700</td>\n",
       "    </tr>\n",
       "    <tr>\n",
       "      <th>40</th>\n",
       "      <td>F_SODA_3</td>\n",
       "      <td>2.874263</td>\n",
       "    </tr>\n",
       "    <tr>\n",
       "      <th>33</th>\n",
       "      <td>BMI_2</td>\n",
       "      <td>2.882433</td>\n",
       "    </tr>\n",
       "    <tr>\n",
       "      <th>5</th>\n",
       "      <td>SitTime_4</td>\n",
       "      <td>2.894326</td>\n",
       "    </tr>\n",
       "    <tr>\n",
       "      <th>4</th>\n",
       "      <td>SitTime_3</td>\n",
       "      <td>2.903898</td>\n",
       "    </tr>\n",
       "    <tr>\n",
       "      <th>42</th>\n",
       "      <td>F_SODA_5</td>\n",
       "      <td>2.911182</td>\n",
       "    </tr>\n",
       "    <tr>\n",
       "      <th>10</th>\n",
       "      <td>PA_TOT_4</td>\n",
       "      <td>2.917152</td>\n",
       "    </tr>\n",
       "    <tr>\n",
       "      <th>14</th>\n",
       "      <td>PA_TOT_6</td>\n",
       "      <td>2.927229</td>\n",
       "    </tr>\n",
       "    <tr>\n",
       "      <th>41</th>\n",
       "      <td>F_SODA_1</td>\n",
       "      <td>2.928977</td>\n",
       "    </tr>\n",
       "    <tr>\n",
       "      <th>1</th>\n",
       "      <td>SitTime_0</td>\n",
       "      <td>2.930132</td>\n",
       "    </tr>\n",
       "    <tr>\n",
       "      <th>19</th>\n",
       "      <td>I_SB_EX_3</td>\n",
       "      <td>2.931139</td>\n",
       "    </tr>\n",
       "    <tr>\n",
       "      <th>48</th>\n",
       "      <td>PA_MSC_5</td>\n",
       "      <td>2.935154</td>\n",
       "    </tr>\n",
       "    <tr>\n",
       "      <th>15</th>\n",
       "      <td>PA_TOT_5</td>\n",
       "      <td>2.935949</td>\n",
       "    </tr>\n",
       "    <tr>\n",
       "      <th>43</th>\n",
       "      <td>F_SODA_7</td>\n",
       "      <td>2.936166</td>\n",
       "    </tr>\n",
       "    <tr>\n",
       "      <th>11</th>\n",
       "      <td>PA_TOT_3</td>\n",
       "      <td>2.997657</td>\n",
       "    </tr>\n",
       "    <tr>\n",
       "      <th>17</th>\n",
       "      <td>I_SB_EX_2</td>\n",
       "      <td>3.003970</td>\n",
       "    </tr>\n",
       "    <tr>\n",
       "      <th>12</th>\n",
       "      <td>PA_TOT_7</td>\n",
       "      <td>3.010814</td>\n",
       "    </tr>\n",
       "    <tr>\n",
       "      <th>18</th>\n",
       "      <td>I_SB_EX_4</td>\n",
       "      <td>3.025320</td>\n",
       "    </tr>\n",
       "    <tr>\n",
       "      <th>21</th>\n",
       "      <td>I_SB_EX_5</td>\n",
       "      <td>3.026120</td>\n",
       "    </tr>\n",
       "    <tr>\n",
       "      <th>23</th>\n",
       "      <td>I_SB_FR_2</td>\n",
       "      <td>3.035313</td>\n",
       "    </tr>\n",
       "    <tr>\n",
       "      <th>16</th>\n",
       "      <td>PA_TOT_2</td>\n",
       "      <td>3.048869</td>\n",
       "    </tr>\n",
       "    <tr>\n",
       "      <th>49</th>\n",
       "      <td>PA_MSC_6</td>\n",
       "      <td>3.052682</td>\n",
       "    </tr>\n",
       "    <tr>\n",
       "      <th>31</th>\n",
       "      <td>i_SB_BK_4</td>\n",
       "      <td>3.056321</td>\n",
       "    </tr>\n",
       "    <tr>\n",
       "      <th>9</th>\n",
       "      <td>PA_TOT_1</td>\n",
       "      <td>3.080728</td>\n",
       "    </tr>\n",
       "    <tr>\n",
       "      <th>24</th>\n",
       "      <td>I_SB_FR_3</td>\n",
       "      <td>3.085765</td>\n",
       "    </tr>\n",
       "    <tr>\n",
       "      <th>28</th>\n",
       "      <td>i_SB_BK_5</td>\n",
       "      <td>3.121434</td>\n",
       "    </tr>\n",
       "    <tr>\n",
       "      <th>26</th>\n",
       "      <td>I_SB_FR_1</td>\n",
       "      <td>3.138766</td>\n",
       "    </tr>\n",
       "    <tr>\n",
       "      <th>13</th>\n",
       "      <td>PA_TOT_8</td>\n",
       "      <td>3.139897</td>\n",
       "    </tr>\n",
       "    <tr>\n",
       "      <th>30</th>\n",
       "      <td>i_SB_BK_3</td>\n",
       "      <td>3.153653</td>\n",
       "    </tr>\n",
       "    <tr>\n",
       "      <th>20</th>\n",
       "      <td>I_SB_EX_1</td>\n",
       "      <td>3.187691</td>\n",
       "    </tr>\n",
       "    <tr>\n",
       "      <th>25</th>\n",
       "      <td>I_SB_FR_4</td>\n",
       "      <td>3.250030</td>\n",
       "    </tr>\n",
       "    <tr>\n",
       "      <th>29</th>\n",
       "      <td>i_SB_BK_2</td>\n",
       "      <td>3.309042</td>\n",
       "    </tr>\n",
       "    <tr>\n",
       "      <th>22</th>\n",
       "      <td>I_SB_FR_5</td>\n",
       "      <td>3.557267</td>\n",
       "    </tr>\n",
       "  </tbody>\n",
       "</table>\n",
       "</div>"
      ],
      "text/plain": [
       "      Variables  Euclidean distance\n",
       "27  M_SUI_CON_1            0.000000\n",
       "8     SitTime_8            2.140951\n",
       "7     SitTime_7            2.483193\n",
       "0       M_SAD_1            2.650477\n",
       "35        BMI_4            2.691479\n",
       "45     PA_MSC_3            2.764385\n",
       "46     PA_MSC_2            2.778974\n",
       "44     F_SODA_4            2.808443\n",
       "37      M_STR_4            2.820658\n",
       "3     SitTime_1            2.824462\n",
       "32        BMI_3            2.840194\n",
       "2     SitTime_2            2.843386\n",
       "39     F_SODA_2            2.844198\n",
       "36      M_STR_3            2.849004\n",
       "6     SitTime_6            2.856710\n",
       "34        BMI_1            2.863734\n",
       "47     PA_MSC_4            2.866622\n",
       "38      M_STR_5            2.873700\n",
       "40     F_SODA_3            2.874263\n",
       "33        BMI_2            2.882433\n",
       "5     SitTime_4            2.894326\n",
       "4     SitTime_3            2.903898\n",
       "42     F_SODA_5            2.911182\n",
       "10     PA_TOT_4            2.917152\n",
       "14     PA_TOT_6            2.927229\n",
       "41     F_SODA_1            2.928977\n",
       "1     SitTime_0            2.930132\n",
       "19    I_SB_EX_3            2.931139\n",
       "48     PA_MSC_5            2.935154\n",
       "15     PA_TOT_5            2.935949\n",
       "43     F_SODA_7            2.936166\n",
       "11     PA_TOT_3            2.997657\n",
       "17    I_SB_EX_2            3.003970\n",
       "12     PA_TOT_7            3.010814\n",
       "18    I_SB_EX_4            3.025320\n",
       "21    I_SB_EX_5            3.026120\n",
       "23    I_SB_FR_2            3.035313\n",
       "16     PA_TOT_2            3.048869\n",
       "49     PA_MSC_6            3.052682\n",
       "31    i_SB_BK_4            3.056321\n",
       "9      PA_TOT_1            3.080728\n",
       "24    I_SB_FR_3            3.085765\n",
       "28    i_SB_BK_5            3.121434\n",
       "26    I_SB_FR_1            3.138766\n",
       "13     PA_TOT_8            3.139897\n",
       "30    i_SB_BK_3            3.153653\n",
       "20    I_SB_EX_1            3.187691\n",
       "25    I_SB_FR_4            3.250030\n",
       "29    i_SB_BK_2            3.309042\n",
       "22    I_SB_FR_5            3.557267"
      ]
     },
     "execution_count": 51,
     "metadata": {},
     "output_type": "execute_result"
    }
   ],
   "source": [
    "c1_c"
   ]
  },
  {
   "cell_type": "code",
   "execution_count": 52,
   "metadata": {
    "ExecuteTime": {
     "end_time": "2021-02-03T13:18:45.755979Z",
     "start_time": "2021-02-03T13:18:45.741357Z"
    },
    "collapsed": true
   },
   "outputs": [
    {
     "data": {
      "text/html": [
       "<div>\n",
       "<style scoped>\n",
       "    .dataframe tbody tr th:only-of-type {\n",
       "        vertical-align: middle;\n",
       "    }\n",
       "\n",
       "    .dataframe tbody tr th {\n",
       "        vertical-align: top;\n",
       "    }\n",
       "\n",
       "    .dataframe thead th {\n",
       "        text-align: right;\n",
       "    }\n",
       "</style>\n",
       "<table border=\"1\" class=\"dataframe\">\n",
       "  <thead>\n",
       "    <tr style=\"text-align: right;\">\n",
       "      <th></th>\n",
       "      <th>Variables</th>\n",
       "      <th>Euclidean distance</th>\n",
       "    </tr>\n",
       "  </thead>\n",
       "  <tbody>\n",
       "    <tr>\n",
       "      <th>2</th>\n",
       "      <td>M_SUI_CON_2</td>\n",
       "      <td>0.000000</td>\n",
       "    </tr>\n",
       "    <tr>\n",
       "      <th>0</th>\n",
       "      <td>M_SAD_2</td>\n",
       "      <td>2.711436</td>\n",
       "    </tr>\n",
       "    <tr>\n",
       "      <th>4</th>\n",
       "      <td>M_STR_1</td>\n",
       "      <td>2.839135</td>\n",
       "    </tr>\n",
       "    <tr>\n",
       "      <th>6</th>\n",
       "      <td>F_SODA_6</td>\n",
       "      <td>2.839930</td>\n",
       "    </tr>\n",
       "    <tr>\n",
       "      <th>5</th>\n",
       "      <td>M_STR_2</td>\n",
       "      <td>2.871876</td>\n",
       "    </tr>\n",
       "    <tr>\n",
       "      <th>1</th>\n",
       "      <td>SitTime_5</td>\n",
       "      <td>2.985546</td>\n",
       "    </tr>\n",
       "    <tr>\n",
       "      <th>7</th>\n",
       "      <td>PA_MSC_1</td>\n",
       "      <td>3.002752</td>\n",
       "    </tr>\n",
       "    <tr>\n",
       "      <th>3</th>\n",
       "      <td>i_SB_BK_1</td>\n",
       "      <td>3.816146</td>\n",
       "    </tr>\n",
       "  </tbody>\n",
       "</table>\n",
       "</div>"
      ],
      "text/plain": [
       "     Variables  Euclidean distance\n",
       "2  M_SUI_CON_2            0.000000\n",
       "0      M_SAD_2            2.711436\n",
       "4      M_STR_1            2.839135\n",
       "6     F_SODA_6            2.839930\n",
       "5      M_STR_2            2.871876\n",
       "1    SitTime_5            2.985546\n",
       "7     PA_MSC_1            3.002752\n",
       "3    i_SB_BK_1            3.816146"
      ]
     },
     "execution_count": 52,
     "metadata": {},
     "output_type": "execute_result"
    }
   ],
   "source": [
    "c2_c"
   ]
  },
  {
   "cell_type": "code",
   "execution_count": 53,
   "metadata": {
    "ExecuteTime": {
     "end_time": "2021-02-03T13:20:30.316526Z",
     "start_time": "2021-02-03T13:20:30.297491Z"
    }
   },
   "outputs": [],
   "source": [
    "c1_c.to_csv('M1_cluster.csv')"
   ]
  },
  {
   "cell_type": "code",
   "execution_count": 54,
   "metadata": {
    "ExecuteTime": {
     "end_time": "2021-02-03T13:20:37.675504Z",
     "start_time": "2021-02-03T13:20:37.659500Z"
    }
   },
   "outputs": [],
   "source": [
    "c2_c.to_csv('M2_cluster.csv')"
   ]
  }
 ],
 "metadata": {
  "hide_input": false,
  "kernelspec": {
   "display_name": "Python 3",
   "language": "python",
   "name": "python3"
  },
  "language_info": {
   "codemirror_mode": {
    "name": "ipython",
    "version": 3
   },
   "file_extension": ".py",
   "mimetype": "text/x-python",
   "name": "python",
   "nbconvert_exporter": "python",
   "pygments_lexer": "ipython3",
   "version": "3.7.9"
  },
  "toc": {
   "base_numbering": 1,
   "nav_menu": {},
   "number_sections": true,
   "sideBar": true,
   "skip_h1_title": false,
   "title_cell": "Table of Contents",
   "title_sidebar": "Contents",
   "toc_cell": false,
   "toc_position": {},
   "toc_section_display": true,
   "toc_window_display": false
  },
  "varInspector": {
   "cols": {
    "lenName": 16,
    "lenType": 16,
    "lenVar": 40
   },
   "kernels_config": {
    "python": {
     "delete_cmd_postfix": "",
     "delete_cmd_prefix": "del ",
     "library": "var_list.py",
     "varRefreshCmd": "print(var_dic_list())"
    },
    "r": {
     "delete_cmd_postfix": ") ",
     "delete_cmd_prefix": "rm(",
     "library": "var_list.r",
     "varRefreshCmd": "cat(var_dic_list()) "
    }
   },
   "types_to_exclude": [
    "module",
    "function",
    "builtin_function_or_method",
    "instance",
    "_Feature"
   ],
   "window_display": false
  }
 },
 "nbformat": 4,
 "nbformat_minor": 4
}
