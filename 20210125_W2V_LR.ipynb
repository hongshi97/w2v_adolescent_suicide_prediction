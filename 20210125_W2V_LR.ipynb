{
 "cells": [
  {
   "cell_type": "markdown",
   "metadata": {},
   "source": [
    "# Logistic Regression"
   ]
  },
  {
   "cell_type": "markdown",
   "metadata": {},
   "source": [
    "## 데이터 불러오기 및 전처리"
   ]
  },
  {
   "cell_type": "code",
   "execution_count": 1,
   "metadata": {
    "ExecuteTime": {
     "end_time": "2021-01-25T04:39:24.459344Z",
     "start_time": "2021-01-25T04:39:23.525975Z"
    }
   },
   "outputs": [],
   "source": [
    "from sklearn.linear_model import LogisticRegression\n",
    "from sklearn import metrics\n",
    "import numpy as np\n",
    "import pandas as pd\n",
    "from sklearn.metrics import roc_auc_score, roc_curve, auc"
   ]
  },
  {
   "cell_type": "code",
   "execution_count": 11,
   "metadata": {
    "ExecuteTime": {
     "end_time": "2021-01-25T04:39:47.694256Z",
     "start_time": "2021-01-25T04:39:47.569883Z"
    }
   },
   "outputs": [],
   "source": [
    "pre_train = pd.read_csv('good_pretrain.csv')\n",
    "pre_test = pd.read_csv('final_test.csv')"
   ]
  },
  {
   "cell_type": "code",
   "execution_count": 12,
   "metadata": {
    "ExecuteTime": {
     "end_time": "2021-01-25T04:39:48.287999Z",
     "start_time": "2021-01-25T04:39:48.271225Z"
    }
   },
   "outputs": [],
   "source": [
    "pre_train = pre_train.drop(columns = ['Unnamed: 0'])\n",
    "pre_test = pre_test.drop(columns = ['Unnamed: 0'])"
   ]
  },
  {
   "cell_type": "code",
   "execution_count": 13,
   "metadata": {
    "ExecuteTime": {
     "end_time": "2021-01-25T04:39:48.964119Z",
     "start_time": "2021-01-25T04:39:48.836872Z"
    }
   },
   "outputs": [],
   "source": [
    "pre_train= pre_train.applymap(lambda x: x[-1])\n",
    "pre_test= pre_test.applymap(lambda x: x[-1])"
   ]
  },
  {
   "cell_type": "code",
   "execution_count": 14,
   "metadata": {
    "ExecuteTime": {
     "end_time": "2021-01-25T04:39:50.593883Z",
     "start_time": "2021-01-25T04:39:50.563925Z"
    }
   },
   "outputs": [],
   "source": [
    "pre_train.loc[(pre_train.M_SUI_CON == 1),'M_SUI_CON']= 0\n",
    "pre_train.loc[(pre_train.M_SUI_CON == 2),'M_SUI_CON']= 1\n",
    "pre_test.loc[(pre_test.M_SUI_CON == 1),'M_SUI_CON']= 0\n",
    "pre_test.loc[(pre_test.M_SUI_CON == 2),'M_SUI_CON']= 1"
   ]
  },
  {
   "cell_type": "code",
   "execution_count": 15,
   "metadata": {
    "ExecuteTime": {
     "end_time": "2021-01-25T04:39:52.397881Z",
     "start_time": "2021-01-25T04:39:52.376873Z"
    }
   },
   "outputs": [],
   "source": [
    "train_features = pre_train.drop(['M_SUI_CON'], axis = 1)\n",
    "test_features = pre_test.drop(['M_SUI_CON'], axis = 1)\n",
    "train_label = pre_train['M_SUI_CON']\n",
    "test_label = pre_test['M_SUI_CON']"
   ]
  },
  {
   "cell_type": "markdown",
   "metadata": {},
   "source": [
    "## 훈련시키기"
   ]
  },
  {
   "cell_type": "code",
   "execution_count": 16,
   "metadata": {
    "ExecuteTime": {
     "end_time": "2021-01-25T04:39:53.065372Z",
     "start_time": "2021-01-25T04:39:53.057950Z"
    }
   },
   "outputs": [],
   "source": [
    "import statsmodels.api as sm"
   ]
  },
  {
   "cell_type": "code",
   "execution_count": 17,
   "metadata": {
    "ExecuteTime": {
     "end_time": "2021-01-25T04:39:53.854949Z",
     "start_time": "2021-01-25T04:39:53.587384Z"
    }
   },
   "outputs": [
    {
     "data": {
      "text/plain": [
       "LogisticRegression(max_iter=10000)"
      ]
     },
     "execution_count": 17,
     "metadata": {},
     "output_type": "execute_result"
    }
   ],
   "source": [
    "logreg = LogisticRegression(max_iter = 10000)\n",
    "logreg.fit(train_features, train_label)"
   ]
  },
  {
   "cell_type": "markdown",
   "metadata": {},
   "source": [
    "### 모델 저장(필요시)"
   ]
  },
  {
   "cell_type": "code",
   "execution_count": 27,
   "metadata": {
    "ExecuteTime": {
     "end_time": "2021-01-25T04:47:37.812857Z",
     "start_time": "2021-01-25T04:47:37.795345Z"
    }
   },
   "outputs": [],
   "source": [
    "import pickle\n",
    "# save the Base model to disk\n",
    "LR_filename = 'LR_W2V.sav'\n",
    "pickle.dump(logreg, open(LR_filename, 'wb'))\n",
    "# load the model from disk\n",
    "#Upgrade_model = pickle.load(open(Random_Grid_RF_filename, 'rb'))"
   ]
  },
  {
   "cell_type": "markdown",
   "metadata": {},
   "source": [
    "## 예측하기"
   ]
  },
  {
   "cell_type": "code",
   "execution_count": 19,
   "metadata": {
    "ExecuteTime": {
     "end_time": "2021-01-25T04:40:00.292311Z",
     "start_time": "2021-01-25T04:40:00.264938Z"
    }
   },
   "outputs": [],
   "source": [
    "y_pred = logreg.predict(test_features)"
   ]
  },
  {
   "cell_type": "code",
   "execution_count": 20,
   "metadata": {
    "ExecuteTime": {
     "end_time": "2021-01-25T04:40:01.551270Z",
     "start_time": "2021-01-25T04:40:01.546269Z"
    }
   },
   "outputs": [],
   "source": [
    "from sklearn.metrics import confusion_matrix\n",
    "from sklearn.metrics import accuracy_score\n",
    "from sklearn.metrics import roc_auc_score\n",
    "\n",
    "def model_evaluation(label, predict):\n",
    "    cf_matrix = confusion_matrix(label, predict)\n",
    "    Accuracy = (cf_matrix[0][0] + cf_matrix[1][1]) / sum(sum(cf_matrix))\n",
    "    Precision = cf_matrix[1][1] / (cf_matrix[1][1] + cf_matrix[0][1])\n",
    "    Recall = cf_matrix[1][1] / (cf_matrix[1][1] + cf_matrix[1][0])\n",
    "    Specificity = cf_matrix[0][0] / (cf_matrix[0][0] + cf_matrix[0][1])\n",
    "    F1_Score = (2 * Recall * Precision) / (Recall + Precision)\n",
    "    F2_Score = (5 * Recall * Precision) / (Recall + 4*Precision) # Recall을 Precision보다 2배 중요하게 생각하여 F2 Score 사용\n",
    "    \n",
    "    print(\"Accuracy: \", Accuracy) \n",
    "    print(\"Precision: \", Precision)\n",
    "    print(\"Recall: \", Recall)\n",
    "    print(\"Specificity: \", Specificity)\n",
    "    print(\"F1_Score: \", F1_Score)\n",
    "    print(\"F2_Score: \", F2_Score)"
   ]
  },
  {
   "cell_type": "code",
   "execution_count": 22,
   "metadata": {
    "ExecuteTime": {
     "end_time": "2021-01-25T04:40:12.254460Z",
     "start_time": "2021-01-25T04:40:12.226154Z"
    }
   },
   "outputs": [],
   "source": [
    "y_pred_Upgrade = logreg.predict(test_features)"
   ]
  },
  {
   "cell_type": "markdown",
   "metadata": {},
   "source": [
    "## 결과"
   ]
  },
  {
   "cell_type": "code",
   "execution_count": 23,
   "metadata": {
    "ExecuteTime": {
     "end_time": "2021-01-25T04:40:13.778175Z",
     "start_time": "2021-01-25T04:40:13.715658Z"
    }
   },
   "outputs": [
    {
     "name": "stdout",
     "output_type": "stream",
     "text": [
      "Accuracy:  0.7722424826257483\n",
      "Precision:  0.3217882584131663\n",
      "Recall:  0.7046799354491662\n",
      "Specificity:  0.7821524380621745\n",
      "F1_Score:  0.4418212478920742\n",
      "F2_Score:  0.5692187364213088\n"
     ]
    }
   ],
   "source": [
    "model_evaluation(test_label, y_pred_Upgrade)"
   ]
  },
  {
   "cell_type": "code",
   "execution_count": 25,
   "metadata": {
    "ExecuteTime": {
     "end_time": "2021-01-25T04:40:24.200419Z",
     "start_time": "2021-01-25T04:40:24.172909Z"
    }
   },
   "outputs": [
    {
     "data": {
      "text/plain": [
       "0.7434161867556703"
      ]
     },
     "execution_count": 25,
     "metadata": {},
     "output_type": "execute_result"
    }
   ],
   "source": [
    "roc_auc_score(test_label, y_pred_Upgrade)"
   ]
  }
 ],
 "metadata": {
  "hide_input": false,
  "kernelspec": {
   "display_name": "Python 3",
   "language": "python",
   "name": "python3"
  },
  "language_info": {
   "codemirror_mode": {
    "name": "ipython",
    "version": 3
   },
   "file_extension": ".py",
   "mimetype": "text/x-python",
   "name": "python",
   "nbconvert_exporter": "python",
   "pygments_lexer": "ipython3",
   "version": "3.7.9"
  },
  "toc": {
   "base_numbering": 1,
   "nav_menu": {},
   "number_sections": true,
   "sideBar": true,
   "skip_h1_title": false,
   "title_cell": "Table of Contents",
   "title_sidebar": "Contents",
   "toc_cell": false,
   "toc_position": {},
   "toc_section_display": true,
   "toc_window_display": false
  },
  "varInspector": {
   "cols": {
    "lenName": 16,
    "lenType": 16,
    "lenVar": 40
   },
   "kernels_config": {
    "python": {
     "delete_cmd_postfix": "",
     "delete_cmd_prefix": "del ",
     "library": "var_list.py",
     "varRefreshCmd": "print(var_dic_list())"
    },
    "r": {
     "delete_cmd_postfix": ") ",
     "delete_cmd_prefix": "rm(",
     "library": "var_list.r",
     "varRefreshCmd": "cat(var_dic_list()) "
    }
   },
   "types_to_exclude": [
    "module",
    "function",
    "builtin_function_or_method",
    "instance",
    "_Feature"
   ],
   "window_display": false
  }
 },
 "nbformat": 4,
 "nbformat_minor": 4
}
